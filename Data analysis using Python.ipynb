{
 "cells": [
  {
   "cell_type": "code",
   "execution_count": 66,
   "id": "b4a4332d",
   "metadata": {},
   "outputs": [],
   "source": [
    "import pandas as pd\n",
    "import matplotlib.pyplot as plt\n",
    "%matplotlib inline"
   ]
  },
  {
   "cell_type": "markdown",
   "id": "cfd8e386",
   "metadata": {},
   "source": [
    "# 1. SAT 2017 exploratory data analysis"
   ]
  },
  {
   "cell_type": "code",
   "execution_count": 67,
   "id": "262c6012",
   "metadata": {},
   "outputs": [],
   "source": [
    "sat_17= pd.read_csv(\"sat_2017.csv\", sep=\",\")"
   ]
  },
  {
   "cell_type": "code",
   "execution_count": 68,
   "id": "3fab3534",
   "metadata": {},
   "outputs": [
    {
     "data": {
      "text/html": [
       "<div>\n",
       "<style scoped>\n",
       "    .dataframe tbody tr th:only-of-type {\n",
       "        vertical-align: middle;\n",
       "    }\n",
       "\n",
       "    .dataframe tbody tr th {\n",
       "        vertical-align: top;\n",
       "    }\n",
       "\n",
       "    .dataframe thead th {\n",
       "        text-align: right;\n",
       "    }\n",
       "</style>\n",
       "<table border=\"1\" class=\"dataframe\">\n",
       "  <thead>\n",
       "    <tr style=\"text-align: right;\">\n",
       "      <th></th>\n",
       "      <th>State</th>\n",
       "      <th>Participation</th>\n",
       "      <th>Evidence-Based Reading and Writing</th>\n",
       "      <th>Math</th>\n",
       "      <th>Total</th>\n",
       "    </tr>\n",
       "  </thead>\n",
       "  <tbody>\n",
       "    <tr>\n",
       "      <th>0</th>\n",
       "      <td>Alabama</td>\n",
       "      <td>5%</td>\n",
       "      <td>593</td>\n",
       "      <td>572</td>\n",
       "      <td>1165</td>\n",
       "    </tr>\n",
       "    <tr>\n",
       "      <th>1</th>\n",
       "      <td>Alaska</td>\n",
       "      <td>38%</td>\n",
       "      <td>547</td>\n",
       "      <td>533</td>\n",
       "      <td>1080</td>\n",
       "    </tr>\n",
       "  </tbody>\n",
       "</table>\n",
       "</div>"
      ],
      "text/plain": [
       "     State Participation  Evidence-Based Reading and Writing  Math  Total\n",
       "0  Alabama            5%                                 593   572   1165\n",
       "1   Alaska           38%                                 547   533   1080"
      ]
     },
     "execution_count": 68,
     "metadata": {},
     "output_type": "execute_result"
    }
   ],
   "source": [
    "sat_17.head(2)"
   ]
  },
  {
   "cell_type": "code",
   "execution_count": 4,
   "id": "655aa32f",
   "metadata": {},
   "outputs": [
    {
     "data": {
      "text/plain": [
       "pandas.core.frame.DataFrame"
      ]
     },
     "execution_count": 4,
     "metadata": {},
     "output_type": "execute_result"
    }
   ],
   "source": [
    "type(sat_17)"
   ]
  },
  {
   "cell_type": "code",
   "execution_count": 5,
   "id": "d0d8b327",
   "metadata": {},
   "outputs": [
    {
     "data": {
      "text/plain": [
       "(51, 5)"
      ]
     },
     "execution_count": 5,
     "metadata": {},
     "output_type": "execute_result"
    }
   ],
   "source": [
    "sat_17.shape"
   ]
  },
  {
   "cell_type": "code",
   "execution_count": 6,
   "id": "99a6c1a5",
   "metadata": {},
   "outputs": [
    {
     "data": {
      "text/plain": [
       "State                                 object\n",
       "Participation                         object\n",
       "Evidence-Based Reading and Writing     int64\n",
       "Math                                   int64\n",
       "Total                                  int64\n",
       "dtype: object"
      ]
     },
     "execution_count": 6,
     "metadata": {},
     "output_type": "execute_result"
    }
   ],
   "source": [
    "sat_17.dtypes"
   ]
  },
  {
   "cell_type": "code",
   "execution_count": 7,
   "id": "4623ed8e",
   "metadata": {},
   "outputs": [
    {
     "data": {
      "text/plain": [
       "Index(['State', 'Participation', 'Evidence-Based Reading and Writing', 'Math',\n",
       "       'Total'],\n",
       "      dtype='object')"
      ]
     },
     "execution_count": 7,
     "metadata": {},
     "output_type": "execute_result"
    }
   ],
   "source": [
    "sat_17.columns"
   ]
  },
  {
   "cell_type": "code",
   "execution_count": 8,
   "id": "24ccee90",
   "metadata": {},
   "outputs": [
    {
     "data": {
      "text/html": [
       "<div>\n",
       "<style scoped>\n",
       "    .dataframe tbody tr th:only-of-type {\n",
       "        vertical-align: middle;\n",
       "    }\n",
       "\n",
       "    .dataframe tbody tr th {\n",
       "        vertical-align: top;\n",
       "    }\n",
       "\n",
       "    .dataframe thead th {\n",
       "        text-align: right;\n",
       "    }\n",
       "</style>\n",
       "<table border=\"1\" class=\"dataframe\">\n",
       "  <thead>\n",
       "    <tr style=\"text-align: right;\">\n",
       "      <th></th>\n",
       "      <th>DataType</th>\n",
       "    </tr>\n",
       "  </thead>\n",
       "  <tbody>\n",
       "    <tr>\n",
       "      <th>State</th>\n",
       "      <td>object</td>\n",
       "    </tr>\n",
       "    <tr>\n",
       "      <th>Participation</th>\n",
       "      <td>object</td>\n",
       "    </tr>\n",
       "    <tr>\n",
       "      <th>Evidence-Based Reading and Writing</th>\n",
       "      <td>int64</td>\n",
       "    </tr>\n",
       "    <tr>\n",
       "      <th>Math</th>\n",
       "      <td>int64</td>\n",
       "    </tr>\n",
       "    <tr>\n",
       "      <th>Total</th>\n",
       "      <td>int64</td>\n",
       "    </tr>\n",
       "  </tbody>\n",
       "</table>\n",
       "</div>"
      ],
      "text/plain": [
       "                                   DataType\n",
       "State                                object\n",
       "Participation                        object\n",
       "Evidence-Based Reading and Writing    int64\n",
       "Math                                  int64\n",
       "Total                                 int64"
      ]
     },
     "execution_count": 8,
     "metadata": {},
     "output_type": "execute_result"
    }
   ],
   "source": [
    "pd.DataFrame(sat_17.dtypes, columns=['DataType'])"
   ]
  },
  {
   "cell_type": "markdown",
   "id": "d448f6ab",
   "metadata": {},
   "source": [
    "Observations:\n",
    "* sat_17 dataframe has 51 rows and 5 columns\n",
    "* columns are representing data of \"State, Participation, Evidence-Based Reading and Writing, Math, Total\"\n",
    "* each row represnting data of participation rate and average scores of reading, writing, maths and total in each states"
   ]
  },
  {
   "cell_type": "code",
   "execution_count": 9,
   "id": "30b64226",
   "metadata": {},
   "outputs": [],
   "source": [
    "# Checking for the null values"
   ]
  },
  {
   "cell_type": "code",
   "execution_count": 5,
   "id": "84d857ba",
   "metadata": {},
   "outputs": [
    {
     "data": {
      "text/plain": [
       "State                                 0\n",
       "Participation                         0\n",
       "Evidence-Based Reading and Writing    0\n",
       "Math                                  0\n",
       "Total                                 0\n",
       "dtype: int64"
      ]
     },
     "execution_count": 5,
     "metadata": {},
     "output_type": "execute_result"
    }
   ],
   "source": [
    "sat_17.isnull().sum().sort_values(ascending=False)"
   ]
  },
  {
   "cell_type": "code",
   "execution_count": 11,
   "id": "4b090b26",
   "metadata": {},
   "outputs": [
    {
     "data": {
      "text/plain": [
       "0"
      ]
     },
     "execution_count": 11,
     "metadata": {},
     "output_type": "execute_result"
    }
   ],
   "source": [
    "# Checking for duplicates\n",
    "sat_17.duplicated().sum()"
   ]
  },
  {
   "cell_type": "code",
   "execution_count": 12,
   "id": "15d687e4",
   "metadata": {},
   "outputs": [
    {
     "data": {
      "text/html": [
       "<div>\n",
       "<style scoped>\n",
       "    .dataframe tbody tr th:only-of-type {\n",
       "        vertical-align: middle;\n",
       "    }\n",
       "\n",
       "    .dataframe tbody tr th {\n",
       "        vertical-align: top;\n",
       "    }\n",
       "\n",
       "    .dataframe thead th {\n",
       "        text-align: right;\n",
       "    }\n",
       "</style>\n",
       "<table border=\"1\" class=\"dataframe\">\n",
       "  <thead>\n",
       "    <tr style=\"text-align: right;\">\n",
       "      <th></th>\n",
       "      <th>State</th>\n",
       "      <th>Participation</th>\n",
       "      <th>Evidence-Based Reading and Writing</th>\n",
       "      <th>Math</th>\n",
       "      <th>Total</th>\n",
       "    </tr>\n",
       "  </thead>\n",
       "  <tbody>\n",
       "  </tbody>\n",
       "</table>\n",
       "</div>"
      ],
      "text/plain": [
       "Empty DataFrame\n",
       "Columns: [State, Participation, Evidence-Based Reading and Writing, Math, Total]\n",
       "Index: []"
      ]
     },
     "execution_count": 12,
     "metadata": {},
     "output_type": "execute_result"
    }
   ],
   "source": [
    "sat_17[sat_17.duplicated()]"
   ]
  },
  {
   "cell_type": "markdown",
   "id": "7c5375d4",
   "metadata": {},
   "source": [
    "#### Questions based on SAT 2017 EDA"
   ]
  },
  {
   "cell_type": "code",
   "execution_count": 13,
   "id": "f64f84f2",
   "metadata": {},
   "outputs": [],
   "source": [
    "# 1.1 What are the highest 10 participation states in 2017?"
   ]
  },
  {
   "cell_type": "code",
   "execution_count": 69,
   "id": "19cdbdee",
   "metadata": {},
   "outputs": [
    {
     "data": {
      "text/html": [
       "<div>\n",
       "<style scoped>\n",
       "    .dataframe tbody tr th:only-of-type {\n",
       "        vertical-align: middle;\n",
       "    }\n",
       "\n",
       "    .dataframe tbody tr th {\n",
       "        vertical-align: top;\n",
       "    }\n",
       "\n",
       "    .dataframe thead th {\n",
       "        text-align: right;\n",
       "    }\n",
       "</style>\n",
       "<table border=\"1\" class=\"dataframe\">\n",
       "  <thead>\n",
       "    <tr style=\"text-align: right;\">\n",
       "      <th></th>\n",
       "      <th>State</th>\n",
       "      <th>Participation</th>\n",
       "      <th>Evidence-Based Reading and Writing</th>\n",
       "      <th>Math</th>\n",
       "      <th>Total</th>\n",
       "    </tr>\n",
       "  </thead>\n",
       "  <tbody>\n",
       "    <tr>\n",
       "      <th>29</th>\n",
       "      <td>New Hampshire</td>\n",
       "      <td>96%</td>\n",
       "      <td>532</td>\n",
       "      <td>520</td>\n",
       "      <td>1052</td>\n",
       "    </tr>\n",
       "    <tr>\n",
       "      <th>19</th>\n",
       "      <td>Maine</td>\n",
       "      <td>95%</td>\n",
       "      <td>513</td>\n",
       "      <td>499</td>\n",
       "      <td>1012</td>\n",
       "    </tr>\n",
       "    <tr>\n",
       "      <th>12</th>\n",
       "      <td>Idaho</td>\n",
       "      <td>93%</td>\n",
       "      <td>513</td>\n",
       "      <td>493</td>\n",
       "      <td>1005</td>\n",
       "    </tr>\n",
       "    <tr>\n",
       "      <th>13</th>\n",
       "      <td>Illinois</td>\n",
       "      <td>9%</td>\n",
       "      <td>559</td>\n",
       "      <td>556</td>\n",
       "      <td>1115</td>\n",
       "    </tr>\n",
       "    <tr>\n",
       "      <th>9</th>\n",
       "      <td>Florida</td>\n",
       "      <td>83%</td>\n",
       "      <td>520</td>\n",
       "      <td>497</td>\n",
       "      <td>1017</td>\n",
       "    </tr>\n",
       "    <tr>\n",
       "      <th>21</th>\n",
       "      <td>Massachusetts</td>\n",
       "      <td>76%</td>\n",
       "      <td>555</td>\n",
       "      <td>551</td>\n",
       "      <td>1107</td>\n",
       "    </tr>\n",
       "    <tr>\n",
       "      <th>39</th>\n",
       "      <td>Rhode Island</td>\n",
       "      <td>71%</td>\n",
       "      <td>539</td>\n",
       "      <td>524</td>\n",
       "      <td>1062</td>\n",
       "    </tr>\n",
       "    <tr>\n",
       "      <th>30</th>\n",
       "      <td>New Jersey</td>\n",
       "      <td>70%</td>\n",
       "      <td>530</td>\n",
       "      <td>526</td>\n",
       "      <td>1056</td>\n",
       "    </tr>\n",
       "    <tr>\n",
       "      <th>36</th>\n",
       "      <td>Oklahoma</td>\n",
       "      <td>7%</td>\n",
       "      <td>530</td>\n",
       "      <td>517</td>\n",
       "      <td>1047</td>\n",
       "    </tr>\n",
       "    <tr>\n",
       "      <th>20</th>\n",
       "      <td>Maryland</td>\n",
       "      <td>69%</td>\n",
       "      <td>536</td>\n",
       "      <td>52</td>\n",
       "      <td>1060</td>\n",
       "    </tr>\n",
       "  </tbody>\n",
       "</table>\n",
       "</div>"
      ],
      "text/plain": [
       "            State Participation  Evidence-Based Reading and Writing  Math  \\\n",
       "29  New Hampshire           96%                                 532   520   \n",
       "19          Maine           95%                                 513   499   \n",
       "12          Idaho           93%                                 513   493   \n",
       "13       Illinois            9%                                 559   556   \n",
       "9         Florida           83%                                 520   497   \n",
       "21  Massachusetts           76%                                 555   551   \n",
       "39   Rhode Island           71%                                 539   524   \n",
       "30     New Jersey           70%                                 530   526   \n",
       "36       Oklahoma            7%                                 530   517   \n",
       "20       Maryland           69%                                 536    52   \n",
       "\n",
       "    Total  \n",
       "29   1052  \n",
       "19   1012  \n",
       "12   1005  \n",
       "13   1115  \n",
       "9    1017  \n",
       "21   1107  \n",
       "39   1062  \n",
       "30   1056  \n",
       "36   1047  \n",
       "20   1060  "
      ]
     },
     "execution_count": 69,
     "metadata": {},
     "output_type": "execute_result"
    }
   ],
   "source": [
    "sat_17.sort_values(by=\"Participation\", ascending = False).head(10)"
   ]
  },
  {
   "cell_type": "code",
   "execution_count": 15,
   "id": "c1edefdb",
   "metadata": {},
   "outputs": [],
   "source": [
    "# Converting \"Participation\" string data type to the integer data type."
   ]
  },
  {
   "cell_type": "code",
   "execution_count": 70,
   "id": "a890a00c",
   "metadata": {},
   "outputs": [],
   "source": [
    "def con_numeric(x):\n",
    "    x = x.replace('%','')\n",
    "    return x\n",
    "sat_17['Participation_2017(%)'] = pd.to_numeric(sat_17['Participation'].apply(con_numeric))"
   ]
  },
  {
   "cell_type": "code",
   "execution_count": 71,
   "id": "817e44a4",
   "metadata": {},
   "outputs": [
    {
     "data": {
      "text/html": [
       "<div>\n",
       "<style scoped>\n",
       "    .dataframe tbody tr th:only-of-type {\n",
       "        vertical-align: middle;\n",
       "    }\n",
       "\n",
       "    .dataframe tbody tr th {\n",
       "        vertical-align: top;\n",
       "    }\n",
       "\n",
       "    .dataframe thead th {\n",
       "        text-align: right;\n",
       "    }\n",
       "</style>\n",
       "<table border=\"1\" class=\"dataframe\">\n",
       "  <thead>\n",
       "    <tr style=\"text-align: right;\">\n",
       "      <th></th>\n",
       "      <th>State</th>\n",
       "      <th>Participation</th>\n",
       "      <th>Evidence-Based Reading and Writing</th>\n",
       "      <th>Math</th>\n",
       "      <th>Total</th>\n",
       "      <th>Participation_2017(%)</th>\n",
       "    </tr>\n",
       "  </thead>\n",
       "  <tbody>\n",
       "    <tr>\n",
       "      <th>0</th>\n",
       "      <td>Alabama</td>\n",
       "      <td>5%</td>\n",
       "      <td>593</td>\n",
       "      <td>572</td>\n",
       "      <td>1165</td>\n",
       "      <td>5</td>\n",
       "    </tr>\n",
       "  </tbody>\n",
       "</table>\n",
       "</div>"
      ],
      "text/plain": [
       "     State Participation  Evidence-Based Reading and Writing  Math  Total  \\\n",
       "0  Alabama            5%                                 593   572   1165   \n",
       "\n",
       "   Participation_2017(%)  \n",
       "0                      5  "
      ]
     },
     "execution_count": 71,
     "metadata": {},
     "output_type": "execute_result"
    }
   ],
   "source": [
    "sat_17.head(1)"
   ]
  },
  {
   "cell_type": "code",
   "execution_count": 18,
   "id": "2cfb6fff",
   "metadata": {},
   "outputs": [
    {
     "name": "stdout",
     "output_type": "stream",
     "text": [
      "<class 'pandas.core.frame.DataFrame'>\n",
      "RangeIndex: 51 entries, 0 to 50\n",
      "Data columns (total 6 columns):\n",
      " #   Column                              Non-Null Count  Dtype \n",
      "---  ------                              --------------  ----- \n",
      " 0   State                               51 non-null     object\n",
      " 1   Participation                       51 non-null     object\n",
      " 2   Evidence-Based Reading and Writing  51 non-null     int64 \n",
      " 3   Math                                51 non-null     int64 \n",
      " 4   Total                               51 non-null     int64 \n",
      " 5   Participation_2017(%)               51 non-null     int64 \n",
      "dtypes: int64(4), object(2)\n",
      "memory usage: 2.5+ KB\n"
     ]
    }
   ],
   "source": [
    "sat_17.info()"
   ]
  },
  {
   "cell_type": "code",
   "execution_count": 72,
   "id": "ff311885",
   "metadata": {},
   "outputs": [],
   "source": [
    "df_subset1= sat_17[[\"State\", \"Participation_2017(%)\"]]"
   ]
  },
  {
   "cell_type": "code",
   "execution_count": 73,
   "id": "d621c6fa",
   "metadata": {},
   "outputs": [
    {
     "data": {
      "text/html": [
       "<div>\n",
       "<style scoped>\n",
       "    .dataframe tbody tr th:only-of-type {\n",
       "        vertical-align: middle;\n",
       "    }\n",
       "\n",
       "    .dataframe tbody tr th {\n",
       "        vertical-align: top;\n",
       "    }\n",
       "\n",
       "    .dataframe thead th {\n",
       "        text-align: right;\n",
       "    }\n",
       "</style>\n",
       "<table border=\"1\" class=\"dataframe\">\n",
       "  <thead>\n",
       "    <tr style=\"text-align: right;\">\n",
       "      <th></th>\n",
       "      <th>State</th>\n",
       "      <th>Participation_2017(%)</th>\n",
       "    </tr>\n",
       "  </thead>\n",
       "  <tbody>\n",
       "    <tr>\n",
       "      <th>8</th>\n",
       "      <td>District of Columbia</td>\n",
       "      <td>100</td>\n",
       "    </tr>\n",
       "    <tr>\n",
       "      <th>22</th>\n",
       "      <td>Michigan</td>\n",
       "      <td>100</td>\n",
       "    </tr>\n",
       "    <tr>\n",
       "      <th>6</th>\n",
       "      <td>Connecticut</td>\n",
       "      <td>100</td>\n",
       "    </tr>\n",
       "    <tr>\n",
       "      <th>7</th>\n",
       "      <td>Delaware</td>\n",
       "      <td>100</td>\n",
       "    </tr>\n",
       "    <tr>\n",
       "      <th>29</th>\n",
       "      <td>New Hampshire</td>\n",
       "      <td>96</td>\n",
       "    </tr>\n",
       "    <tr>\n",
       "      <th>19</th>\n",
       "      <td>Maine</td>\n",
       "      <td>95</td>\n",
       "    </tr>\n",
       "    <tr>\n",
       "      <th>12</th>\n",
       "      <td>Idaho</td>\n",
       "      <td>93</td>\n",
       "    </tr>\n",
       "    <tr>\n",
       "      <th>9</th>\n",
       "      <td>Florida</td>\n",
       "      <td>83</td>\n",
       "    </tr>\n",
       "    <tr>\n",
       "      <th>21</th>\n",
       "      <td>Massachusetts</td>\n",
       "      <td>76</td>\n",
       "    </tr>\n",
       "    <tr>\n",
       "      <th>39</th>\n",
       "      <td>Rhode Island</td>\n",
       "      <td>71</td>\n",
       "    </tr>\n",
       "  </tbody>\n",
       "</table>\n",
       "</div>"
      ],
      "text/plain": [
       "                   State  Participation_2017(%)\n",
       "8   District of Columbia                    100\n",
       "22              Michigan                    100\n",
       "6            Connecticut                    100\n",
       "7               Delaware                    100\n",
       "29         New Hampshire                     96\n",
       "19                 Maine                     95\n",
       "12                 Idaho                     93\n",
       "9                Florida                     83\n",
       "21         Massachusetts                     76\n",
       "39          Rhode Island                     71"
      ]
     },
     "execution_count": 73,
     "metadata": {},
     "output_type": "execute_result"
    }
   ],
   "source": [
    "# The highest 10 participation states in 2017:\n",
    "df_subset1.sort_values(by=\"Participation_2017(%)\", ascending=False).head(10)"
   ]
  },
  {
   "cell_type": "code",
   "execution_count": 21,
   "id": "c50ae1d3",
   "metadata": {},
   "outputs": [],
   "source": [
    "# 1.2 What are the lowest 10 Sat participation states in 2017?"
   ]
  },
  {
   "cell_type": "code",
   "execution_count": 74,
   "id": "d29ed185",
   "metadata": {},
   "outputs": [],
   "source": [
    "lowest_2017= df_subset1.sort_values(by=\"Participation_2017(%)\", ascending=True).head(10)"
   ]
  },
  {
   "cell_type": "code",
   "execution_count": 75,
   "id": "a00a6f10",
   "metadata": {},
   "outputs": [
    {
     "data": {
      "text/html": [
       "<div>\n",
       "<style scoped>\n",
       "    .dataframe tbody tr th:only-of-type {\n",
       "        vertical-align: middle;\n",
       "    }\n",
       "\n",
       "    .dataframe tbody tr th {\n",
       "        vertical-align: top;\n",
       "    }\n",
       "\n",
       "    .dataframe thead th {\n",
       "        text-align: right;\n",
       "    }\n",
       "</style>\n",
       "<table border=\"1\" class=\"dataframe\">\n",
       "  <thead>\n",
       "    <tr style=\"text-align: right;\">\n",
       "      <th></th>\n",
       "      <th>State</th>\n",
       "      <th>Participation_2017(%)</th>\n",
       "    </tr>\n",
       "  </thead>\n",
       "  <tbody>\n",
       "    <tr>\n",
       "      <th>34</th>\n",
       "      <td>North Dakota</td>\n",
       "      <td>2</td>\n",
       "    </tr>\n",
       "    <tr>\n",
       "      <th>24</th>\n",
       "      <td>Mississippi</td>\n",
       "      <td>2</td>\n",
       "    </tr>\n",
       "    <tr>\n",
       "      <th>15</th>\n",
       "      <td>Iowa</td>\n",
       "      <td>2</td>\n",
       "    </tr>\n",
       "    <tr>\n",
       "      <th>25</th>\n",
       "      <td>Missouri</td>\n",
       "      <td>3</td>\n",
       "    </tr>\n",
       "    <tr>\n",
       "      <th>44</th>\n",
       "      <td>Utah</td>\n",
       "      <td>3</td>\n",
       "    </tr>\n",
       "    <tr>\n",
       "      <th>41</th>\n",
       "      <td>South Dakota</td>\n",
       "      <td>3</td>\n",
       "    </tr>\n",
       "    <tr>\n",
       "      <th>27</th>\n",
       "      <td>Nebraska</td>\n",
       "      <td>3</td>\n",
       "    </tr>\n",
       "    <tr>\n",
       "      <th>49</th>\n",
       "      <td>Wisconsin</td>\n",
       "      <td>3</td>\n",
       "    </tr>\n",
       "    <tr>\n",
       "      <th>23</th>\n",
       "      <td>Minnesota</td>\n",
       "      <td>3</td>\n",
       "    </tr>\n",
       "    <tr>\n",
       "      <th>50</th>\n",
       "      <td>Wyoming</td>\n",
       "      <td>3</td>\n",
       "    </tr>\n",
       "  </tbody>\n",
       "</table>\n",
       "</div>"
      ],
      "text/plain": [
       "           State  Participation_2017(%)\n",
       "34  North Dakota                      2\n",
       "24   Mississippi                      2\n",
       "15          Iowa                      2\n",
       "25      Missouri                      3\n",
       "44          Utah                      3\n",
       "41  South Dakota                      3\n",
       "27      Nebraska                      3\n",
       "49     Wisconsin                      3\n",
       "23     Minnesota                      3\n",
       "50       Wyoming                      3"
      ]
     },
     "execution_count": 75,
     "metadata": {},
     "output_type": "execute_result"
    }
   ],
   "source": [
    "lowest_2017"
   ]
  },
  {
   "cell_type": "code",
   "execution_count": 24,
   "id": "efbc0b70",
   "metadata": {},
   "outputs": [],
   "source": [
    "# 1.3 Which states has the less than 50% participation rate in 2017?"
   ]
  },
  {
   "cell_type": "code",
   "execution_count": 76,
   "id": "2591d687",
   "metadata": {},
   "outputs": [
    {
     "data": {
      "text/plain": [
       "0            Alabama\n",
       "1             Alaska\n",
       "2            Arizona\n",
       "3           Arkansas\n",
       "5           Colorado\n",
       "13          Illinois\n",
       "15              Iowa\n",
       "16            Kansas\n",
       "17          Kentucky\n",
       "18         Louisiana\n",
       "23         Minnesota\n",
       "24       Mississippi\n",
       "25          Missouri\n",
       "26           Montana\n",
       "27          Nebraska\n",
       "28            Nevada\n",
       "31        New Mexico\n",
       "33    North Carolina\n",
       "34      North Dakota\n",
       "35              Ohio\n",
       "36          Oklahoma\n",
       "37            Oregon\n",
       "41      South Dakota\n",
       "42         Tennessee\n",
       "44              Utah\n",
       "48     West Virginia\n",
       "49         Wisconsin\n",
       "50           Wyoming\n",
       "Name: State, dtype: object"
      ]
     },
     "execution_count": 76,
     "metadata": {},
     "output_type": "execute_result"
    }
   ],
   "source": [
    "df_subset1[df_subset1[\"Participation_2017(%)\"] < 50][\"State\"]"
   ]
  },
  {
   "cell_type": "code",
   "execution_count": 26,
   "id": "12e68254",
   "metadata": {},
   "outputs": [],
   "source": [
    "# 1.4 What is the mean total score of states where the participation is 100%?"
   ]
  },
  {
   "cell_type": "code",
   "execution_count": 77,
   "id": "fba3fa87",
   "metadata": {
    "scrolled": true
   },
   "outputs": [
    {
     "data": {
      "text/html": [
       "<div>\n",
       "<style scoped>\n",
       "    .dataframe tbody tr th:only-of-type {\n",
       "        vertical-align: middle;\n",
       "    }\n",
       "\n",
       "    .dataframe tbody tr th {\n",
       "        vertical-align: top;\n",
       "    }\n",
       "\n",
       "    .dataframe thead th {\n",
       "        text-align: right;\n",
       "    }\n",
       "</style>\n",
       "<table border=\"1\" class=\"dataframe\">\n",
       "  <thead>\n",
       "    <tr style=\"text-align: right;\">\n",
       "      <th></th>\n",
       "      <th>State</th>\n",
       "      <th>Participation_2017(%)</th>\n",
       "    </tr>\n",
       "  </thead>\n",
       "  <tbody>\n",
       "    <tr>\n",
       "      <th>0</th>\n",
       "      <td>Alabama</td>\n",
       "      <td>5</td>\n",
       "    </tr>\n",
       "  </tbody>\n",
       "</table>\n",
       "</div>"
      ],
      "text/plain": [
       "     State  Participation_2017(%)\n",
       "0  Alabama                      5"
      ]
     },
     "execution_count": 77,
     "metadata": {},
     "output_type": "execute_result"
    }
   ],
   "source": [
    "df_subset1.head(1)"
   ]
  },
  {
   "cell_type": "code",
   "execution_count": 78,
   "id": "ff6b9b06",
   "metadata": {},
   "outputs": [
    {
     "data": {
      "text/html": [
       "<div>\n",
       "<style scoped>\n",
       "    .dataframe tbody tr th:only-of-type {\n",
       "        vertical-align: middle;\n",
       "    }\n",
       "\n",
       "    .dataframe tbody tr th {\n",
       "        vertical-align: top;\n",
       "    }\n",
       "\n",
       "    .dataframe thead th {\n",
       "        text-align: right;\n",
       "    }\n",
       "</style>\n",
       "<table border=\"1\" class=\"dataframe\">\n",
       "  <thead>\n",
       "    <tr style=\"text-align: right;\">\n",
       "      <th></th>\n",
       "      <th>State</th>\n",
       "      <th>Participation</th>\n",
       "      <th>Evidence-Based Reading and Writing</th>\n",
       "      <th>Math</th>\n",
       "      <th>Total</th>\n",
       "      <th>Participation_2017(%)</th>\n",
       "    </tr>\n",
       "  </thead>\n",
       "  <tbody>\n",
       "    <tr>\n",
       "      <th>0</th>\n",
       "      <td>Alabama</td>\n",
       "      <td>5%</td>\n",
       "      <td>593</td>\n",
       "      <td>572</td>\n",
       "      <td>1165</td>\n",
       "      <td>5</td>\n",
       "    </tr>\n",
       "  </tbody>\n",
       "</table>\n",
       "</div>"
      ],
      "text/plain": [
       "     State Participation  Evidence-Based Reading and Writing  Math  Total  \\\n",
       "0  Alabama            5%                                 593   572   1165   \n",
       "\n",
       "   Participation_2017(%)  \n",
       "0                      5  "
      ]
     },
     "execution_count": 78,
     "metadata": {},
     "output_type": "execute_result"
    }
   ],
   "source": [
    "sat_17.head(1)"
   ]
  },
  {
   "cell_type": "code",
   "execution_count": 79,
   "id": "1799d5f3",
   "metadata": {},
   "outputs": [],
   "source": [
    "# Extracting \"Total\" column from sat_17 into a series_1 and merge series_1 in to a new dataframe called df1.\n",
    "series_1 = sat_17[\"Total\"]"
   ]
  },
  {
   "cell_type": "code",
   "execution_count": 80,
   "id": "22800410",
   "metadata": {},
   "outputs": [],
   "source": [
    "df1=df_subset1.merge(series_1,left_index=True, right_index=True)"
   ]
  },
  {
   "cell_type": "code",
   "execution_count": 81,
   "id": "e120edb5",
   "metadata": {},
   "outputs": [
    {
     "data": {
      "text/html": [
       "<div>\n",
       "<style scoped>\n",
       "    .dataframe tbody tr th:only-of-type {\n",
       "        vertical-align: middle;\n",
       "    }\n",
       "\n",
       "    .dataframe tbody tr th {\n",
       "        vertical-align: top;\n",
       "    }\n",
       "\n",
       "    .dataframe thead th {\n",
       "        text-align: right;\n",
       "    }\n",
       "</style>\n",
       "<table border=\"1\" class=\"dataframe\">\n",
       "  <thead>\n",
       "    <tr style=\"text-align: right;\">\n",
       "      <th></th>\n",
       "      <th>State</th>\n",
       "      <th>Participation_2017(%)</th>\n",
       "      <th>Total</th>\n",
       "    </tr>\n",
       "  </thead>\n",
       "  <tbody>\n",
       "    <tr>\n",
       "      <th>0</th>\n",
       "      <td>Alabama</td>\n",
       "      <td>5</td>\n",
       "      <td>1165</td>\n",
       "    </tr>\n",
       "  </tbody>\n",
       "</table>\n",
       "</div>"
      ],
      "text/plain": [
       "     State  Participation_2017(%)  Total\n",
       "0  Alabama                      5   1165"
      ]
     },
     "execution_count": 81,
     "metadata": {},
     "output_type": "execute_result"
    }
   ],
   "source": [
    "df1.head(1)"
   ]
  },
  {
   "cell_type": "code",
   "execution_count": 82,
   "id": "1b9e1f1b",
   "metadata": {},
   "outputs": [],
   "source": [
    "mean_score = df1[df1[\"Participation_2017(%)\"] == 100][\"Total\"].mean()\n",
    "# mean_score = sat_17[sat_17[\"Participation_2017(%)\"] == 100][\"Total\"].mean()"
   ]
  },
  {
   "cell_type": "code",
   "execution_count": 83,
   "id": "2bdb72eb",
   "metadata": {},
   "outputs": [],
   "source": [
    "math_mean_score = sat_17[sat_17[\"Participation_2017(%)\"] == 100][\"Math\"].mean()"
   ]
  },
  {
   "cell_type": "code",
   "execution_count": 84,
   "id": "a16126d0",
   "metadata": {},
   "outputs": [],
   "source": [
    "EBRW_mean_score = sat_17[sat_17[\"Participation_2017(%)\"] == 100][\"Evidence-Based Reading and Writing\"].mean()"
   ]
  },
  {
   "cell_type": "code",
   "execution_count": 85,
   "id": "24ed7133",
   "metadata": {},
   "outputs": [
    {
     "name": "stdout",
     "output_type": "stream",
     "text": [
      "The mean scores of states where the participation is 100% is as follows: \n",
      "Total score is 998.0\n",
      "Math score is 491.75\n",
      "EBRW score is 506.0\n"
     ]
    }
   ],
   "source": [
    "print(f\"The mean scores of states where the participation is 100% is as follows: \")\n",
    "print(f\"Total score is {mean_score}\")\n",
    "print(f\"Math score is {math_mean_score}\")\n",
    "print(f\"EBRW score is {EBRW_mean_score}\")"
   ]
  },
  {
   "cell_type": "markdown",
   "id": "27cefdaa",
   "metadata": {},
   "source": [
    "# 2. SAT 2018 exploratory data analysis"
   ]
  },
  {
   "cell_type": "code",
   "execution_count": 86,
   "id": "3eeae347",
   "metadata": {},
   "outputs": [],
   "source": [
    "sat_18= pd.read_csv(\"sat_2018.csv\", sep=\",\")"
   ]
  },
  {
   "cell_type": "code",
   "execution_count": 87,
   "id": "7776cdf8",
   "metadata": {},
   "outputs": [
    {
     "data": {
      "text/html": [
       "<div>\n",
       "<style scoped>\n",
       "    .dataframe tbody tr th:only-of-type {\n",
       "        vertical-align: middle;\n",
       "    }\n",
       "\n",
       "    .dataframe tbody tr th {\n",
       "        vertical-align: top;\n",
       "    }\n",
       "\n",
       "    .dataframe thead th {\n",
       "        text-align: right;\n",
       "    }\n",
       "</style>\n",
       "<table border=\"1\" class=\"dataframe\">\n",
       "  <thead>\n",
       "    <tr style=\"text-align: right;\">\n",
       "      <th></th>\n",
       "      <th>State</th>\n",
       "      <th>Participation</th>\n",
       "      <th>Evidence-Based Reading and Writing</th>\n",
       "      <th>Math</th>\n",
       "      <th>Total</th>\n",
       "    </tr>\n",
       "  </thead>\n",
       "  <tbody>\n",
       "    <tr>\n",
       "      <th>0</th>\n",
       "      <td>Alabama</td>\n",
       "      <td>6%</td>\n",
       "      <td>595</td>\n",
       "      <td>571</td>\n",
       "      <td>1166</td>\n",
       "    </tr>\n",
       "    <tr>\n",
       "      <th>1</th>\n",
       "      <td>Alaska</td>\n",
       "      <td>43%</td>\n",
       "      <td>562</td>\n",
       "      <td>544</td>\n",
       "      <td>1106</td>\n",
       "    </tr>\n",
       "    <tr>\n",
       "      <th>2</th>\n",
       "      <td>Arizona</td>\n",
       "      <td>29%</td>\n",
       "      <td>577</td>\n",
       "      <td>572</td>\n",
       "      <td>1149</td>\n",
       "    </tr>\n",
       "    <tr>\n",
       "      <th>3</th>\n",
       "      <td>Arkansas</td>\n",
       "      <td>5%</td>\n",
       "      <td>592</td>\n",
       "      <td>576</td>\n",
       "      <td>1169</td>\n",
       "    </tr>\n",
       "    <tr>\n",
       "      <th>4</th>\n",
       "      <td>California</td>\n",
       "      <td>60%</td>\n",
       "      <td>540</td>\n",
       "      <td>536</td>\n",
       "      <td>1076</td>\n",
       "    </tr>\n",
       "    <tr>\n",
       "      <th>5</th>\n",
       "      <td>Colorado</td>\n",
       "      <td>100%</td>\n",
       "      <td>519</td>\n",
       "      <td>506</td>\n",
       "      <td>1025</td>\n",
       "    </tr>\n",
       "    <tr>\n",
       "      <th>6</th>\n",
       "      <td>Connecticut</td>\n",
       "      <td>100%</td>\n",
       "      <td>535</td>\n",
       "      <td>519</td>\n",
       "      <td>1053</td>\n",
       "    </tr>\n",
       "    <tr>\n",
       "      <th>7</th>\n",
       "      <td>Delaware</td>\n",
       "      <td>100%</td>\n",
       "      <td>505</td>\n",
       "      <td>492</td>\n",
       "      <td>998</td>\n",
       "    </tr>\n",
       "    <tr>\n",
       "      <th>8</th>\n",
       "      <td>District of Columbia</td>\n",
       "      <td>92%</td>\n",
       "      <td>497</td>\n",
       "      <td>480</td>\n",
       "      <td>977</td>\n",
       "    </tr>\n",
       "    <tr>\n",
       "      <th>9</th>\n",
       "      <td>Florida</td>\n",
       "      <td>56%</td>\n",
       "      <td>550</td>\n",
       "      <td>549</td>\n",
       "      <td>1099</td>\n",
       "    </tr>\n",
       "  </tbody>\n",
       "</table>\n",
       "</div>"
      ],
      "text/plain": [
       "                  State Participation  Evidence-Based Reading and Writing  \\\n",
       "0               Alabama            6%                                 595   \n",
       "1                Alaska           43%                                 562   \n",
       "2               Arizona           29%                                 577   \n",
       "3              Arkansas            5%                                 592   \n",
       "4            California           60%                                 540   \n",
       "5              Colorado          100%                                 519   \n",
       "6           Connecticut          100%                                 535   \n",
       "7              Delaware          100%                                 505   \n",
       "8  District of Columbia           92%                                 497   \n",
       "9               Florida           56%                                 550   \n",
       "\n",
       "   Math  Total  \n",
       "0   571   1166  \n",
       "1   544   1106  \n",
       "2   572   1149  \n",
       "3   576   1169  \n",
       "4   536   1076  \n",
       "5   506   1025  \n",
       "6   519   1053  \n",
       "7   492    998  \n",
       "8   480    977  \n",
       "9   549   1099  "
      ]
     },
     "execution_count": 87,
     "metadata": {},
     "output_type": "execute_result"
    }
   ],
   "source": [
    "sat_18.head(10)"
   ]
  },
  {
   "cell_type": "code",
   "execution_count": 88,
   "id": "e77e3155",
   "metadata": {},
   "outputs": [
    {
     "data": {
      "text/plain": [
       "pandas.core.frame.DataFrame"
      ]
     },
     "execution_count": 88,
     "metadata": {},
     "output_type": "execute_result"
    }
   ],
   "source": [
    "type(sat_18)"
   ]
  },
  {
   "cell_type": "code",
   "execution_count": 89,
   "id": "0bac3218",
   "metadata": {},
   "outputs": [
    {
     "data": {
      "text/plain": [
       "(51, 5)"
      ]
     },
     "execution_count": 89,
     "metadata": {},
     "output_type": "execute_result"
    }
   ],
   "source": [
    "sat_18.shape"
   ]
  },
  {
   "cell_type": "code",
   "execution_count": 40,
   "id": "c96773a4",
   "metadata": {},
   "outputs": [
    {
     "data": {
      "text/plain": [
       "Index(['State', 'Participation', 'Evidence-Based Reading and Writing', 'Math',\n",
       "       'Total'],\n",
       "      dtype='object')"
      ]
     },
     "execution_count": 40,
     "metadata": {},
     "output_type": "execute_result"
    }
   ],
   "source": [
    "sat_18.columns"
   ]
  },
  {
   "cell_type": "code",
   "execution_count": 41,
   "id": "c4f43822",
   "metadata": {},
   "outputs": [
    {
     "name": "stdout",
     "output_type": "stream",
     "text": [
      "<class 'pandas.core.frame.DataFrame'>\n",
      "RangeIndex: 51 entries, 0 to 50\n",
      "Data columns (total 5 columns):\n",
      " #   Column                              Non-Null Count  Dtype \n",
      "---  ------                              --------------  ----- \n",
      " 0   State                               51 non-null     object\n",
      " 1   Participation                       51 non-null     object\n",
      " 2   Evidence-Based Reading and Writing  51 non-null     int64 \n",
      " 3   Math                                51 non-null     int64 \n",
      " 4   Total                               51 non-null     int64 \n",
      "dtypes: int64(3), object(2)\n",
      "memory usage: 2.1+ KB\n"
     ]
    }
   ],
   "source": [
    "sat_18.info()"
   ]
  },
  {
   "cell_type": "markdown",
   "id": "9b98d4e2",
   "metadata": {},
   "source": [
    "Observations:\n",
    "* sat_18 dataframe has 51 rows and 5 columns\n",
    "* columns are representing data of \"State, Participation, Evidence-Based Reading and Writing, Math, Total\"\n",
    "* each row represnting data of participation rate and average scores of reading, writing, maths and total in each states"
   ]
  },
  {
   "cell_type": "code",
   "execution_count": 42,
   "id": "843394c4",
   "metadata": {},
   "outputs": [],
   "source": [
    "# Checking for the null values"
   ]
  },
  {
   "cell_type": "code",
   "execution_count": 90,
   "id": "77ad4dd1",
   "metadata": {},
   "outputs": [
    {
     "data": {
      "text/plain": [
       "State                                 0\n",
       "Participation                         0\n",
       "Evidence-Based Reading and Writing    0\n",
       "Math                                  0\n",
       "Total                                 0\n",
       "dtype: int64"
      ]
     },
     "execution_count": 90,
     "metadata": {},
     "output_type": "execute_result"
    }
   ],
   "source": [
    "sat_18.isnull().sum().sort_values(ascending=False)"
   ]
  },
  {
   "cell_type": "code",
   "execution_count": 44,
   "id": "c79466f8",
   "metadata": {},
   "outputs": [],
   "source": [
    "# Checking for the duplicates"
   ]
  },
  {
   "cell_type": "code",
   "execution_count": 45,
   "id": "2778cba3",
   "metadata": {},
   "outputs": [
    {
     "data": {
      "text/plain": [
       "0"
      ]
     },
     "execution_count": 45,
     "metadata": {},
     "output_type": "execute_result"
    }
   ],
   "source": [
    "sat_18.duplicated().sum()"
   ]
  },
  {
   "cell_type": "code",
   "execution_count": 91,
   "id": "dd6aa7a7",
   "metadata": {},
   "outputs": [
    {
     "data": {
      "text/html": [
       "<div>\n",
       "<style scoped>\n",
       "    .dataframe tbody tr th:only-of-type {\n",
       "        vertical-align: middle;\n",
       "    }\n",
       "\n",
       "    .dataframe tbody tr th {\n",
       "        vertical-align: top;\n",
       "    }\n",
       "\n",
       "    .dataframe thead th {\n",
       "        text-align: right;\n",
       "    }\n",
       "</style>\n",
       "<table border=\"1\" class=\"dataframe\">\n",
       "  <thead>\n",
       "    <tr style=\"text-align: right;\">\n",
       "      <th></th>\n",
       "      <th>State</th>\n",
       "      <th>Participation</th>\n",
       "      <th>Evidence-Based Reading and Writing</th>\n",
       "      <th>Math</th>\n",
       "      <th>Total</th>\n",
       "    </tr>\n",
       "  </thead>\n",
       "  <tbody>\n",
       "  </tbody>\n",
       "</table>\n",
       "</div>"
      ],
      "text/plain": [
       "Empty DataFrame\n",
       "Columns: [State, Participation, Evidence-Based Reading and Writing, Math, Total]\n",
       "Index: []"
      ]
     },
     "execution_count": 91,
     "metadata": {},
     "output_type": "execute_result"
    }
   ],
   "source": [
    "sat_18[sat_18.duplicated()]"
   ]
  },
  {
   "cell_type": "code",
   "execution_count": 92,
   "id": "6db69115",
   "metadata": {},
   "outputs": [],
   "source": [
    "sat_18[\"Participation_2018(%)\"] = pd.to_numeric(sat_18['Participation'].apply(con_numeric))"
   ]
  },
  {
   "cell_type": "code",
   "execution_count": 93,
   "id": "b02bf9ae",
   "metadata": {},
   "outputs": [],
   "source": [
    "subset_2= sat_18[[\"State\", \"Participation_2018(%)\", \"Total\"]]"
   ]
  },
  {
   "cell_type": "markdown",
   "id": "edbda339",
   "metadata": {},
   "source": [
    "#### Questions based on SAT 2018 EDA"
   ]
  },
  {
   "cell_type": "code",
   "execution_count": 49,
   "id": "d8a1217e",
   "metadata": {},
   "outputs": [],
   "source": [
    "# 2.1 What are the highest 10 participation states in 2018?"
   ]
  },
  {
   "cell_type": "code",
   "execution_count": 94,
   "id": "3b224033",
   "metadata": {},
   "outputs": [
    {
     "data": {
      "text/html": [
       "<div>\n",
       "<style scoped>\n",
       "    .dataframe tbody tr th:only-of-type {\n",
       "        vertical-align: middle;\n",
       "    }\n",
       "\n",
       "    .dataframe tbody tr th {\n",
       "        vertical-align: top;\n",
       "    }\n",
       "\n",
       "    .dataframe thead th {\n",
       "        text-align: right;\n",
       "    }\n",
       "</style>\n",
       "<table border=\"1\" class=\"dataframe\">\n",
       "  <thead>\n",
       "    <tr style=\"text-align: right;\">\n",
       "      <th></th>\n",
       "      <th>State</th>\n",
       "      <th>Participation_2018(%)</th>\n",
       "      <th>Total</th>\n",
       "    </tr>\n",
       "  </thead>\n",
       "  <tbody>\n",
       "    <tr>\n",
       "      <th>5</th>\n",
       "      <td>Colorado</td>\n",
       "      <td>100</td>\n",
       "      <td>1025</td>\n",
       "    </tr>\n",
       "    <tr>\n",
       "      <th>6</th>\n",
       "      <td>Connecticut</td>\n",
       "      <td>100</td>\n",
       "      <td>1053</td>\n",
       "    </tr>\n",
       "    <tr>\n",
       "      <th>7</th>\n",
       "      <td>Delaware</td>\n",
       "      <td>100</td>\n",
       "      <td>998</td>\n",
       "    </tr>\n",
       "    <tr>\n",
       "      <th>22</th>\n",
       "      <td>Michigan</td>\n",
       "      <td>100</td>\n",
       "      <td>1011</td>\n",
       "    </tr>\n",
       "    <tr>\n",
       "      <th>12</th>\n",
       "      <td>Idaho</td>\n",
       "      <td>100</td>\n",
       "      <td>1001</td>\n",
       "    </tr>\n",
       "    <tr>\n",
       "      <th>19</th>\n",
       "      <td>Maine</td>\n",
       "      <td>99</td>\n",
       "      <td>1013</td>\n",
       "    </tr>\n",
       "    <tr>\n",
       "      <th>13</th>\n",
       "      <td>Illinois</td>\n",
       "      <td>99</td>\n",
       "      <td>1019</td>\n",
       "    </tr>\n",
       "    <tr>\n",
       "      <th>39</th>\n",
       "      <td>Rhode Island</td>\n",
       "      <td>97</td>\n",
       "      <td>1018</td>\n",
       "    </tr>\n",
       "    <tr>\n",
       "      <th>29</th>\n",
       "      <td>New Hampshire</td>\n",
       "      <td>96</td>\n",
       "      <td>1063</td>\n",
       "    </tr>\n",
       "    <tr>\n",
       "      <th>8</th>\n",
       "      <td>District of Columbia</td>\n",
       "      <td>92</td>\n",
       "      <td>977</td>\n",
       "    </tr>\n",
       "  </tbody>\n",
       "</table>\n",
       "</div>"
      ],
      "text/plain": [
       "                   State  Participation_2018(%)  Total\n",
       "5               Colorado                    100   1025\n",
       "6            Connecticut                    100   1053\n",
       "7               Delaware                    100    998\n",
       "22              Michigan                    100   1011\n",
       "12                 Idaho                    100   1001\n",
       "19                 Maine                     99   1013\n",
       "13              Illinois                     99   1019\n",
       "39          Rhode Island                     97   1018\n",
       "29         New Hampshire                     96   1063\n",
       "8   District of Columbia                     92    977"
      ]
     },
     "execution_count": 94,
     "metadata": {},
     "output_type": "execute_result"
    }
   ],
   "source": [
    "subset_2.sort_values(by=\"Participation_2018(%)\", ascending=False).head(10)"
   ]
  },
  {
   "cell_type": "code",
   "execution_count": 51,
   "id": "c174eba8",
   "metadata": {},
   "outputs": [],
   "source": [
    "# 2.2 What are the lowest 20 participation states in 2018?"
   ]
  },
  {
   "cell_type": "code",
   "execution_count": 95,
   "id": "b3e529d0",
   "metadata": {},
   "outputs": [],
   "source": [
    "lowest_2018 = subset_2.sort_values(by=\"Participation_2018(%)\", ascending=True).head(20)"
   ]
  },
  {
   "cell_type": "code",
   "execution_count": 96,
   "id": "39e565a4",
   "metadata": {},
   "outputs": [],
   "source": [
    "lowest_2018.rename(columns={\"State\": \"STATE\"}, inplace=True) "
   ]
  },
  {
   "cell_type": "code",
   "execution_count": 54,
   "id": "97819929",
   "metadata": {},
   "outputs": [],
   "source": [
    "# 2.3 Which states has the less than 50% participation rate in 2018?"
   ]
  },
  {
   "cell_type": "code",
   "execution_count": 97,
   "id": "2a1552d0",
   "metadata": {},
   "outputs": [
    {
     "data": {
      "text/plain": [
       "0           Alabama\n",
       "1            Alaska\n",
       "2           Arizona\n",
       "3          Arkansas\n",
       "15             Iowa\n",
       "16           Kansas\n",
       "17         Kentucky\n",
       "18        Louisiana\n",
       "23        Minnesota\n",
       "24      Mississippi\n",
       "25         Missouri\n",
       "26          Montana\n",
       "27         Nebraska\n",
       "28           Nevada\n",
       "31       New Mexico\n",
       "34     North Dakota\n",
       "35         Oklahoma\n",
       "36             Ohio\n",
       "37           Oregon\n",
       "41     South Dakota\n",
       "42        Tennessee\n",
       "44             Utah\n",
       "48    West Virginia\n",
       "49        Wisconsin\n",
       "50          Wyoming\n",
       "Name: State, dtype: object"
      ]
     },
     "execution_count": 97,
     "metadata": {},
     "output_type": "execute_result"
    }
   ],
   "source": [
    "subset_2[subset_2[\"Participation_2018(%)\"] < 50][\"State\"]"
   ]
  },
  {
   "cell_type": "code",
   "execution_count": 56,
   "id": "fd573e21",
   "metadata": {},
   "outputs": [],
   "source": [
    "# 2.4 Find out more stat details about sat participation in 2018. "
   ]
  },
  {
   "cell_type": "code",
   "execution_count": 98,
   "id": "3e3e5cbc",
   "metadata": {},
   "outputs": [
    {
     "data": {
      "text/html": [
       "<div>\n",
       "<style scoped>\n",
       "    .dataframe tbody tr th:only-of-type {\n",
       "        vertical-align: middle;\n",
       "    }\n",
       "\n",
       "    .dataframe tbody tr th {\n",
       "        vertical-align: top;\n",
       "    }\n",
       "\n",
       "    .dataframe thead th {\n",
       "        text-align: right;\n",
       "    }\n",
       "</style>\n",
       "<table border=\"1\" class=\"dataframe\">\n",
       "  <thead>\n",
       "    <tr style=\"text-align: right;\">\n",
       "      <th></th>\n",
       "      <th>Participation_2018(%)</th>\n",
       "      <th>Total</th>\n",
       "    </tr>\n",
       "  </thead>\n",
       "  <tbody>\n",
       "    <tr>\n",
       "      <th>count</th>\n",
       "      <td>51.000000</td>\n",
       "      <td>51.000000</td>\n",
       "    </tr>\n",
       "    <tr>\n",
       "      <th>mean</th>\n",
       "      <td>45.745098</td>\n",
       "      <td>1120.019608</td>\n",
       "    </tr>\n",
       "    <tr>\n",
       "      <th>std</th>\n",
       "      <td>37.314256</td>\n",
       "      <td>94.155083</td>\n",
       "    </tr>\n",
       "    <tr>\n",
       "      <th>min</th>\n",
       "      <td>2.000000</td>\n",
       "      <td>977.000000</td>\n",
       "    </tr>\n",
       "    <tr>\n",
       "      <th>25%</th>\n",
       "      <td>4.500000</td>\n",
       "      <td>1057.500000</td>\n",
       "    </tr>\n",
       "    <tr>\n",
       "      <th>50%</th>\n",
       "      <td>52.000000</td>\n",
       "      <td>1098.000000</td>\n",
       "    </tr>\n",
       "    <tr>\n",
       "      <th>75%</th>\n",
       "      <td>77.500000</td>\n",
       "      <td>1204.000000</td>\n",
       "    </tr>\n",
       "    <tr>\n",
       "      <th>max</th>\n",
       "      <td>100.000000</td>\n",
       "      <td>1298.000000</td>\n",
       "    </tr>\n",
       "  </tbody>\n",
       "</table>\n",
       "</div>"
      ],
      "text/plain": [
       "       Participation_2018(%)        Total\n",
       "count              51.000000    51.000000\n",
       "mean               45.745098  1120.019608\n",
       "std                37.314256    94.155083\n",
       "min                 2.000000   977.000000\n",
       "25%                 4.500000  1057.500000\n",
       "50%                52.000000  1098.000000\n",
       "75%                77.500000  1204.000000\n",
       "max               100.000000  1298.000000"
      ]
     },
     "execution_count": 98,
     "metadata": {},
     "output_type": "execute_result"
    }
   ],
   "source": [
    "subset_2.describe()"
   ]
  },
  {
   "cell_type": "markdown",
   "id": "f9b65bf0",
   "metadata": {},
   "source": [
    "# 3. SAT 2019 exploratory data analysis"
   ]
  },
  {
   "cell_type": "code",
   "execution_count": 104,
   "id": "08b01057",
   "metadata": {},
   "outputs": [],
   "source": [
    "sat_19= pd.read_csv(\"sat_2019.csv\", sep=\",\")"
   ]
  },
  {
   "cell_type": "code",
   "execution_count": 105,
   "id": "04649a0d",
   "metadata": {},
   "outputs": [
    {
     "data": {
      "text/html": [
       "<div>\n",
       "<style scoped>\n",
       "    .dataframe tbody tr th:only-of-type {\n",
       "        vertical-align: middle;\n",
       "    }\n",
       "\n",
       "    .dataframe tbody tr th {\n",
       "        vertical-align: top;\n",
       "    }\n",
       "\n",
       "    .dataframe thead th {\n",
       "        text-align: right;\n",
       "    }\n",
       "</style>\n",
       "<table border=\"1\" class=\"dataframe\">\n",
       "  <thead>\n",
       "    <tr style=\"text-align: right;\">\n",
       "      <th></th>\n",
       "      <th>State</th>\n",
       "      <th>Participation Rate</th>\n",
       "      <th>EBRW</th>\n",
       "      <th>Math</th>\n",
       "      <th>Total</th>\n",
       "    </tr>\n",
       "  </thead>\n",
       "  <tbody>\n",
       "    <tr>\n",
       "      <th>0</th>\n",
       "      <td>Alabama</td>\n",
       "      <td>7%</td>\n",
       "      <td>583</td>\n",
       "      <td>560</td>\n",
       "      <td>1143</td>\n",
       "    </tr>\n",
       "    <tr>\n",
       "      <th>1</th>\n",
       "      <td>Alaska</td>\n",
       "      <td>41%</td>\n",
       "      <td>556</td>\n",
       "      <td>541</td>\n",
       "      <td>1097</td>\n",
       "    </tr>\n",
       "    <tr>\n",
       "      <th>2</th>\n",
       "      <td>Arizona</td>\n",
       "      <td>31%</td>\n",
       "      <td>569</td>\n",
       "      <td>565</td>\n",
       "      <td>1134</td>\n",
       "    </tr>\n",
       "    <tr>\n",
       "      <th>3</th>\n",
       "      <td>Arkansas</td>\n",
       "      <td>6%</td>\n",
       "      <td>582</td>\n",
       "      <td>559</td>\n",
       "      <td>1141</td>\n",
       "    </tr>\n",
       "    <tr>\n",
       "      <th>4</th>\n",
       "      <td>California</td>\n",
       "      <td>63%</td>\n",
       "      <td>534</td>\n",
       "      <td>531</td>\n",
       "      <td>1065</td>\n",
       "    </tr>\n",
       "    <tr>\n",
       "      <th>5</th>\n",
       "      <td>Colorado</td>\n",
       "      <td>100%</td>\n",
       "      <td>518</td>\n",
       "      <td>506</td>\n",
       "      <td>1024</td>\n",
       "    </tr>\n",
       "    <tr>\n",
       "      <th>6</th>\n",
       "      <td>Connecticut</td>\n",
       "      <td>100%</td>\n",
       "      <td>529</td>\n",
       "      <td>516</td>\n",
       "      <td>1046</td>\n",
       "    </tr>\n",
       "    <tr>\n",
       "      <th>7</th>\n",
       "      <td>Delaware</td>\n",
       "      <td>100%</td>\n",
       "      <td>499</td>\n",
       "      <td>486</td>\n",
       "      <td>985</td>\n",
       "    </tr>\n",
       "    <tr>\n",
       "      <th>8</th>\n",
       "      <td>District of Columbia</td>\n",
       "      <td>94%</td>\n",
       "      <td>495</td>\n",
       "      <td>480</td>\n",
       "      <td>975</td>\n",
       "    </tr>\n",
       "    <tr>\n",
       "      <th>9</th>\n",
       "      <td>Florida</td>\n",
       "      <td>100%</td>\n",
       "      <td>516</td>\n",
       "      <td>483</td>\n",
       "      <td>999</td>\n",
       "    </tr>\n",
       "  </tbody>\n",
       "</table>\n",
       "</div>"
      ],
      "text/plain": [
       "                  State Participation Rate  EBRW  Math  Total\n",
       "0               Alabama                 7%   583   560   1143\n",
       "1                Alaska                41%   556   541   1097\n",
       "2               Arizona                31%   569   565   1134\n",
       "3              Arkansas                 6%   582   559   1141\n",
       "4            California                63%   534   531   1065\n",
       "5              Colorado               100%   518   506   1024\n",
       "6           Connecticut               100%   529   516   1046\n",
       "7              Delaware               100%   499   486    985\n",
       "8  District of Columbia                94%   495   480    975\n",
       "9               Florida               100%   516   483    999"
      ]
     },
     "execution_count": 105,
     "metadata": {},
     "output_type": "execute_result"
    }
   ],
   "source": [
    "sat_19.head(10)"
   ]
  },
  {
   "cell_type": "code",
   "execution_count": 106,
   "id": "557003b7",
   "metadata": {},
   "outputs": [
    {
     "data": {
      "text/plain": [
       "pandas.core.frame.DataFrame"
      ]
     },
     "execution_count": 106,
     "metadata": {},
     "output_type": "execute_result"
    }
   ],
   "source": [
    "type(sat_19)"
   ]
  },
  {
   "cell_type": "code",
   "execution_count": 61,
   "id": "0bece381",
   "metadata": {},
   "outputs": [
    {
     "data": {
      "text/plain": [
       "Index(['State', 'Participation Rate', 'EBRW', 'Math', 'Total'], dtype='object')"
      ]
     },
     "execution_count": 61,
     "metadata": {},
     "output_type": "execute_result"
    }
   ],
   "source": [
    "sat_19.columns"
   ]
  },
  {
   "cell_type": "code",
   "execution_count": 62,
   "id": "f4cce3d9",
   "metadata": {},
   "outputs": [
    {
     "data": {
      "text/plain": [
       "(53, 5)"
      ]
     },
     "execution_count": 62,
     "metadata": {},
     "output_type": "execute_result"
    }
   ],
   "source": [
    "sat_19.shape"
   ]
  },
  {
   "cell_type": "code",
   "execution_count": 63,
   "id": "29dcf0cc",
   "metadata": {},
   "outputs": [
    {
     "name": "stdout",
     "output_type": "stream",
     "text": [
      "<class 'pandas.core.frame.DataFrame'>\n",
      "RangeIndex: 53 entries, 0 to 52\n",
      "Data columns (total 5 columns):\n",
      " #   Column              Non-Null Count  Dtype \n",
      "---  ------              --------------  ----- \n",
      " 0   State               53 non-null     object\n",
      " 1   Participation Rate  53 non-null     object\n",
      " 2   EBRW                53 non-null     int64 \n",
      " 3   Math                53 non-null     int64 \n",
      " 4   Total               53 non-null     int64 \n",
      "dtypes: int64(3), object(2)\n",
      "memory usage: 2.2+ KB\n"
     ]
    }
   ],
   "source": [
    "sat_19.info()"
   ]
  },
  {
   "cell_type": "code",
   "execution_count": 31,
   "id": "fd7e67c7",
   "metadata": {},
   "outputs": [
    {
     "data": {
      "text/html": [
       "<div>\n",
       "<style scoped>\n",
       "    .dataframe tbody tr th:only-of-type {\n",
       "        vertical-align: middle;\n",
       "    }\n",
       "\n",
       "    .dataframe tbody tr th {\n",
       "        vertical-align: top;\n",
       "    }\n",
       "\n",
       "    .dataframe thead th {\n",
       "        text-align: right;\n",
       "    }\n",
       "</style>\n",
       "<table border=\"1\" class=\"dataframe\">\n",
       "  <thead>\n",
       "    <tr style=\"text-align: right;\">\n",
       "      <th></th>\n",
       "      <th>EBRW</th>\n",
       "      <th>Math</th>\n",
       "      <th>Total</th>\n",
       "    </tr>\n",
       "  </thead>\n",
       "  <tbody>\n",
       "    <tr>\n",
       "      <th>count</th>\n",
       "      <td>53.000000</td>\n",
       "      <td>53.000000</td>\n",
       "      <td>53.000000</td>\n",
       "    </tr>\n",
       "    <tr>\n",
       "      <th>mean</th>\n",
       "      <td>558.000000</td>\n",
       "      <td>548.471698</td>\n",
       "      <td>1106.528302</td>\n",
       "    </tr>\n",
       "    <tr>\n",
       "      <th>std</th>\n",
       "      <td>47.554422</td>\n",
       "      <td>53.785044</td>\n",
       "      <td>100.994784</td>\n",
       "    </tr>\n",
       "    <tr>\n",
       "      <th>min</th>\n",
       "      <td>483.000000</td>\n",
       "      <td>445.000000</td>\n",
       "      <td>935.000000</td>\n",
       "    </tr>\n",
       "    <tr>\n",
       "      <th>25%</th>\n",
       "      <td>518.000000</td>\n",
       "      <td>506.000000</td>\n",
       "      <td>1024.000000</td>\n",
       "    </tr>\n",
       "    <tr>\n",
       "      <th>50%</th>\n",
       "      <td>550.000000</td>\n",
       "      <td>545.000000</td>\n",
       "      <td>1097.000000</td>\n",
       "    </tr>\n",
       "    <tr>\n",
       "      <th>75%</th>\n",
       "      <td>610.000000</td>\n",
       "      <td>596.000000</td>\n",
       "      <td>1200.000000</td>\n",
       "    </tr>\n",
       "    <tr>\n",
       "      <th>max</th>\n",
       "      <td>636.000000</td>\n",
       "      <td>648.000000</td>\n",
       "      <td>1284.000000</td>\n",
       "    </tr>\n",
       "  </tbody>\n",
       "</table>\n",
       "</div>"
      ],
      "text/plain": [
       "             EBRW        Math        Total\n",
       "count   53.000000   53.000000    53.000000\n",
       "mean   558.000000  548.471698  1106.528302\n",
       "std     47.554422   53.785044   100.994784\n",
       "min    483.000000  445.000000   935.000000\n",
       "25%    518.000000  506.000000  1024.000000\n",
       "50%    550.000000  545.000000  1097.000000\n",
       "75%    610.000000  596.000000  1200.000000\n",
       "max    636.000000  648.000000  1284.000000"
      ]
     },
     "execution_count": 31,
     "metadata": {},
     "output_type": "execute_result"
    }
   ],
   "source": [
    "sat_19.describe()"
   ]
  },
  {
   "cell_type": "markdown",
   "id": "655df254",
   "metadata": {},
   "source": [
    "Observations:\n",
    "* sat_19 dataframe has 53 rows and 5 columns\n",
    "* columns are representing data of \"State, Participation, Evidence-Based Reading and Writing, Math, Total\"\n",
    "* each row represnting data of participation rate and average scores of reading, writing, maths and total in each states"
   ]
  },
  {
   "cell_type": "code",
   "execution_count": 65,
   "id": "e18c5a8a",
   "metadata": {},
   "outputs": [],
   "source": [
    "# Checking for null values"
   ]
  },
  {
   "cell_type": "code",
   "execution_count": 66,
   "id": "9f03e921",
   "metadata": {},
   "outputs": [
    {
     "data": {
      "text/plain": [
       "State                 0\n",
       "Participation Rate    0\n",
       "EBRW                  0\n",
       "Math                  0\n",
       "Total                 0\n",
       "dtype: int64"
      ]
     },
     "execution_count": 66,
     "metadata": {},
     "output_type": "execute_result"
    }
   ],
   "source": [
    "sat_19.isnull().sum()"
   ]
  },
  {
   "cell_type": "code",
   "execution_count": 67,
   "id": "7d6d227a",
   "metadata": {},
   "outputs": [],
   "source": [
    "# Checking for the duplicates"
   ]
  },
  {
   "cell_type": "code",
   "execution_count": 107,
   "id": "b5845cdc",
   "metadata": {},
   "outputs": [
    {
     "data": {
      "text/plain": [
       "0"
      ]
     },
     "execution_count": 107,
     "metadata": {},
     "output_type": "execute_result"
    }
   ],
   "source": [
    "sat_19.duplicated().sum()"
   ]
  },
  {
   "cell_type": "code",
   "execution_count": 108,
   "id": "f5c24f96",
   "metadata": {},
   "outputs": [
    {
     "data": {
      "text/html": [
       "<div>\n",
       "<style scoped>\n",
       "    .dataframe tbody tr th:only-of-type {\n",
       "        vertical-align: middle;\n",
       "    }\n",
       "\n",
       "    .dataframe tbody tr th {\n",
       "        vertical-align: top;\n",
       "    }\n",
       "\n",
       "    .dataframe thead th {\n",
       "        text-align: right;\n",
       "    }\n",
       "</style>\n",
       "<table border=\"1\" class=\"dataframe\">\n",
       "  <thead>\n",
       "    <tr style=\"text-align: right;\">\n",
       "      <th></th>\n",
       "      <th>State</th>\n",
       "      <th>Participation Rate</th>\n",
       "      <th>EBRW</th>\n",
       "      <th>Math</th>\n",
       "      <th>Total</th>\n",
       "    </tr>\n",
       "  </thead>\n",
       "  <tbody>\n",
       "  </tbody>\n",
       "</table>\n",
       "</div>"
      ],
      "text/plain": [
       "Empty DataFrame\n",
       "Columns: [State, Participation Rate, EBRW, Math, Total]\n",
       "Index: []"
      ]
     },
     "execution_count": 108,
     "metadata": {},
     "output_type": "execute_result"
    }
   ],
   "source": [
    "sat_19[sat_19.duplicated()]"
   ]
  },
  {
   "cell_type": "code",
   "execution_count": 109,
   "id": "cdd72bbf",
   "metadata": {},
   "outputs": [],
   "source": [
    "sat_19.rename(columns={\"Participation Rate\": \"Participation\"}, inplace=True)"
   ]
  },
  {
   "cell_type": "code",
   "execution_count": 110,
   "id": "18a176e1",
   "metadata": {},
   "outputs": [
    {
     "data": {
      "text/plain": [
       "0     7%\n",
       "1    41%\n",
       "2    31%\n",
       "3     6%\n",
       "4    63%\n",
       "Name: Participation, dtype: object"
      ]
     },
     "execution_count": 110,
     "metadata": {},
     "output_type": "execute_result"
    }
   ],
   "source": [
    "sat_19[\"Participation\"].head()"
   ]
  },
  {
   "cell_type": "code",
   "execution_count": 111,
   "id": "88169daf",
   "metadata": {},
   "outputs": [],
   "source": [
    "sat_19 = sat_19.drop([39,47])"
   ]
  },
  {
   "cell_type": "code",
   "execution_count": 73,
   "id": "e89ef11e",
   "metadata": {},
   "outputs": [
    {
     "name": "stdout",
     "output_type": "stream",
     "text": [
      "<class 'pandas.core.frame.DataFrame'>\n",
      "Int64Index: 51 entries, 0 to 52\n",
      "Data columns (total 5 columns):\n",
      " #   Column         Non-Null Count  Dtype \n",
      "---  ------         --------------  ----- \n",
      " 0   State          51 non-null     object\n",
      " 1   Participation  51 non-null     object\n",
      " 2   EBRW           51 non-null     int64 \n",
      " 3   Math           51 non-null     int64 \n",
      " 4   Total          51 non-null     int64 \n",
      "dtypes: int64(3), object(2)\n",
      "memory usage: 2.4+ KB\n"
     ]
    }
   ],
   "source": [
    "sat_19.info()"
   ]
  },
  {
   "cell_type": "code",
   "execution_count": 112,
   "id": "efba48ce",
   "metadata": {},
   "outputs": [],
   "source": [
    "sat_19[\"Participation_2019(%)\"] = pd.to_numeric(sat_19[\"Participation\"].apply(con_numeric))"
   ]
  },
  {
   "cell_type": "code",
   "execution_count": 113,
   "id": "d4fb6bac",
   "metadata": {},
   "outputs": [],
   "source": [
    "subset_3= sat_19[[\"State\", \"Participation_2019(%)\", \"Total\"]]"
   ]
  },
  {
   "cell_type": "code",
   "execution_count": 114,
   "id": "3bc6153f",
   "metadata": {},
   "outputs": [
    {
     "data": {
      "text/html": [
       "<div>\n",
       "<style scoped>\n",
       "    .dataframe tbody tr th:only-of-type {\n",
       "        vertical-align: middle;\n",
       "    }\n",
       "\n",
       "    .dataframe tbody tr th {\n",
       "        vertical-align: top;\n",
       "    }\n",
       "\n",
       "    .dataframe thead th {\n",
       "        text-align: right;\n",
       "    }\n",
       "</style>\n",
       "<table border=\"1\" class=\"dataframe\">\n",
       "  <thead>\n",
       "    <tr style=\"text-align: right;\">\n",
       "      <th></th>\n",
       "      <th>State</th>\n",
       "      <th>Participation_2019(%)</th>\n",
       "      <th>Total</th>\n",
       "    </tr>\n",
       "  </thead>\n",
       "  <tbody>\n",
       "    <tr>\n",
       "      <th>0</th>\n",
       "      <td>Alabama</td>\n",
       "      <td>7</td>\n",
       "      <td>1143</td>\n",
       "    </tr>\n",
       "    <tr>\n",
       "      <th>1</th>\n",
       "      <td>Alaska</td>\n",
       "      <td>41</td>\n",
       "      <td>1097</td>\n",
       "    </tr>\n",
       "    <tr>\n",
       "      <th>2</th>\n",
       "      <td>Arizona</td>\n",
       "      <td>31</td>\n",
       "      <td>1134</td>\n",
       "    </tr>\n",
       "    <tr>\n",
       "      <th>3</th>\n",
       "      <td>Arkansas</td>\n",
       "      <td>6</td>\n",
       "      <td>1141</td>\n",
       "    </tr>\n",
       "    <tr>\n",
       "      <th>4</th>\n",
       "      <td>California</td>\n",
       "      <td>63</td>\n",
       "      <td>1065</td>\n",
       "    </tr>\n",
       "  </tbody>\n",
       "</table>\n",
       "</div>"
      ],
      "text/plain": [
       "        State  Participation_2019(%)  Total\n",
       "0     Alabama                      7   1143\n",
       "1      Alaska                     41   1097\n",
       "2     Arizona                     31   1134\n",
       "3    Arkansas                      6   1141\n",
       "4  California                     63   1065"
      ]
     },
     "execution_count": 114,
     "metadata": {},
     "output_type": "execute_result"
    }
   ],
   "source": [
    "subset_3.head()"
   ]
  },
  {
   "cell_type": "markdown",
   "id": "5e776ea3",
   "metadata": {},
   "source": [
    "#### Questions based on SAT 2019 EDA"
   ]
  },
  {
   "cell_type": "code",
   "execution_count": 115,
   "id": "b820a020",
   "metadata": {},
   "outputs": [
    {
     "data": {
      "text/html": [
       "<div>\n",
       "<style scoped>\n",
       "    .dataframe tbody tr th:only-of-type {\n",
       "        vertical-align: middle;\n",
       "    }\n",
       "\n",
       "    .dataframe tbody tr th {\n",
       "        vertical-align: top;\n",
       "    }\n",
       "\n",
       "    .dataframe thead th {\n",
       "        text-align: right;\n",
       "    }\n",
       "</style>\n",
       "<table border=\"1\" class=\"dataframe\">\n",
       "  <thead>\n",
       "    <tr style=\"text-align: right;\">\n",
       "      <th></th>\n",
       "      <th>State</th>\n",
       "      <th>Participation_2019(%)</th>\n",
       "      <th>Total</th>\n",
       "    </tr>\n",
       "  </thead>\n",
       "  <tbody>\n",
       "    <tr>\n",
       "      <th>40</th>\n",
       "      <td>Rhode Island</td>\n",
       "      <td>100</td>\n",
       "      <td>995</td>\n",
       "    </tr>\n",
       "    <tr>\n",
       "      <th>13</th>\n",
       "      <td>Illinois</td>\n",
       "      <td>100</td>\n",
       "      <td>1013</td>\n",
       "    </tr>\n",
       "    <tr>\n",
       "      <th>22</th>\n",
       "      <td>Michigan</td>\n",
       "      <td>100</td>\n",
       "      <td>1003</td>\n",
       "    </tr>\n",
       "    <tr>\n",
       "      <th>5</th>\n",
       "      <td>Colorado</td>\n",
       "      <td>100</td>\n",
       "      <td>1024</td>\n",
       "    </tr>\n",
       "    <tr>\n",
       "      <th>6</th>\n",
       "      <td>Connecticut</td>\n",
       "      <td>100</td>\n",
       "      <td>1046</td>\n",
       "    </tr>\n",
       "    <tr>\n",
       "      <th>7</th>\n",
       "      <td>Delaware</td>\n",
       "      <td>100</td>\n",
       "      <td>985</td>\n",
       "    </tr>\n",
       "    <tr>\n",
       "      <th>9</th>\n",
       "      <td>Florida</td>\n",
       "      <td>100</td>\n",
       "      <td>999</td>\n",
       "    </tr>\n",
       "    <tr>\n",
       "      <th>12</th>\n",
       "      <td>Idaho</td>\n",
       "      <td>100</td>\n",
       "      <td>993</td>\n",
       "    </tr>\n",
       "    <tr>\n",
       "      <th>19</th>\n",
       "      <td>Maine</td>\n",
       "      <td>99</td>\n",
       "      <td>1013</td>\n",
       "    </tr>\n",
       "    <tr>\n",
       "      <th>50</th>\n",
       "      <td>West Virginia</td>\n",
       "      <td>99</td>\n",
       "      <td>943</td>\n",
       "    </tr>\n",
       "  </tbody>\n",
       "</table>\n",
       "</div>"
      ],
      "text/plain": [
       "            State  Participation_2019(%)  Total\n",
       "40   Rhode Island                    100    995\n",
       "13       Illinois                    100   1013\n",
       "22       Michigan                    100   1003\n",
       "5        Colorado                    100   1024\n",
       "6     Connecticut                    100   1046\n",
       "7        Delaware                    100    985\n",
       "9         Florida                    100    999\n",
       "12          Idaho                    100    993\n",
       "19          Maine                     99   1013\n",
       "50  West Virginia                     99    943"
      ]
     },
     "execution_count": 115,
     "metadata": {},
     "output_type": "execute_result"
    }
   ],
   "source": [
    "# 3.1 What are the highest 10 participation states in 2019?\n",
    "subset_3.sort_values(by=\"Participation_2019(%)\", ascending=False).head(10)"
   ]
  },
  {
   "cell_type": "code",
   "execution_count": 116,
   "id": "c36167b1",
   "metadata": {},
   "outputs": [],
   "source": [
    "# 3.2 What are the lowest 10 participation states in 2019?\n",
    "lowest_2019 = subset_3.sort_values(by=\"Participation_2019(%)\", ascending=True).head(10)"
   ]
  },
  {
   "cell_type": "code",
   "execution_count": 117,
   "id": "2b122334",
   "metadata": {},
   "outputs": [],
   "source": [
    "lowest_2019.rename(columns={\"State\": \"STATE\"}, inplace=True) "
   ]
  },
  {
   "cell_type": "code",
   "execution_count": 118,
   "id": "36a1f65c",
   "metadata": {},
   "outputs": [
    {
     "data": {
      "text/html": [
       "<div>\n",
       "<style scoped>\n",
       "    .dataframe tbody tr th:only-of-type {\n",
       "        vertical-align: middle;\n",
       "    }\n",
       "\n",
       "    .dataframe tbody tr th {\n",
       "        vertical-align: top;\n",
       "    }\n",
       "\n",
       "    .dataframe thead th {\n",
       "        text-align: right;\n",
       "    }\n",
       "</style>\n",
       "<table border=\"1\" class=\"dataframe\">\n",
       "  <thead>\n",
       "    <tr style=\"text-align: right;\">\n",
       "      <th></th>\n",
       "      <th>STATE</th>\n",
       "      <th>Participation_2019(%)</th>\n",
       "      <th>Total</th>\n",
       "    </tr>\n",
       "  </thead>\n",
       "  <tbody>\n",
       "    <tr>\n",
       "      <th>34</th>\n",
       "      <td>North Dakota</td>\n",
       "      <td>2</td>\n",
       "      <td>1263</td>\n",
       "    </tr>\n",
       "    <tr>\n",
       "      <th>52</th>\n",
       "      <td>Wyoming</td>\n",
       "      <td>3</td>\n",
       "      <td>1238</td>\n",
       "    </tr>\n",
       "    <tr>\n",
       "      <th>42</th>\n",
       "      <td>South Dakota</td>\n",
       "      <td>3</td>\n",
       "      <td>1268</td>\n",
       "    </tr>\n",
       "    <tr>\n",
       "      <th>27</th>\n",
       "      <td>Nebraska</td>\n",
       "      <td>3</td>\n",
       "      <td>1260</td>\n",
       "    </tr>\n",
       "    <tr>\n",
       "      <th>51</th>\n",
       "      <td>Wisconsin</td>\n",
       "      <td>3</td>\n",
       "      <td>1283</td>\n",
       "    </tr>\n",
       "    <tr>\n",
       "      <th>24</th>\n",
       "      <td>Mississippi</td>\n",
       "      <td>3</td>\n",
       "      <td>1237</td>\n",
       "    </tr>\n",
       "    <tr>\n",
       "      <th>15</th>\n",
       "      <td>Iowa</td>\n",
       "      <td>3</td>\n",
       "      <td>1244</td>\n",
       "    </tr>\n",
       "    <tr>\n",
       "      <th>45</th>\n",
       "      <td>Utah</td>\n",
       "      <td>4</td>\n",
       "      <td>1230</td>\n",
       "    </tr>\n",
       "    <tr>\n",
       "      <th>23</th>\n",
       "      <td>Minnesota</td>\n",
       "      <td>4</td>\n",
       "      <td>1284</td>\n",
       "    </tr>\n",
       "    <tr>\n",
       "      <th>17</th>\n",
       "      <td>Kentucky</td>\n",
       "      <td>4</td>\n",
       "      <td>1232</td>\n",
       "    </tr>\n",
       "  </tbody>\n",
       "</table>\n",
       "</div>"
      ],
      "text/plain": [
       "           STATE  Participation_2019(%)  Total\n",
       "34  North Dakota                      2   1263\n",
       "52       Wyoming                      3   1238\n",
       "42  South Dakota                      3   1268\n",
       "27      Nebraska                      3   1260\n",
       "51     Wisconsin                      3   1283\n",
       "24   Mississippi                      3   1237\n",
       "15          Iowa                      3   1244\n",
       "45          Utah                      4   1230\n",
       "23     Minnesota                      4   1284\n",
       "17      Kentucky                      4   1232"
      ]
     },
     "execution_count": 118,
     "metadata": {},
     "output_type": "execute_result"
    }
   ],
   "source": [
    "lowest_2019"
   ]
  },
  {
   "cell_type": "code",
   "execution_count": 81,
   "id": "adb1553c",
   "metadata": {},
   "outputs": [],
   "source": [
    "# 3.3 What is the highest average score in maths in 2019? and which state?"
   ]
  },
  {
   "cell_type": "code",
   "execution_count": 119,
   "id": "2af942ae",
   "metadata": {},
   "outputs": [],
   "source": [
    "math = sat_19.groupby([\"State\"]).mean().sort_values(by=\"Math\", ascending=False).head(1)"
   ]
  },
  {
   "cell_type": "code",
   "execution_count": 120,
   "id": "a927b1f7",
   "metadata": {},
   "outputs": [
    {
     "name": "stdout",
     "output_type": "stream",
     "text": [
      "            Math\n",
      "State           \n",
      "Wisconsin  648.0\n"
     ]
    }
   ],
   "source": [
    "print(f\"{math[['Math']]}\")"
   ]
  },
  {
   "cell_type": "code",
   "execution_count": null,
   "id": "01aa5cc9",
   "metadata": {},
   "outputs": [],
   "source": [
    "# 3.4 What is the highest average score in EBRW in 2019? and which state?"
   ]
  },
  {
   "cell_type": "code",
   "execution_count": 121,
   "id": "6f8c54d1",
   "metadata": {},
   "outputs": [
    {
     "name": "stdout",
     "output_type": "stream",
     "text": [
      "            EBRW\n",
      "State           \n",
      "Minnesota  636.0\n"
     ]
    }
   ],
   "source": [
    "Ebrw = sat_19.groupby([\"State\"]).mean().sort_values(by=\"EBRW\", ascending=False).head(1)\n",
    "print(f\"{Ebrw[['EBRW']]}\")"
   ]
  },
  {
   "cell_type": "code",
   "execution_count": null,
   "id": "8bc386a4",
   "metadata": {},
   "outputs": [],
   "source": [
    "# 3.5 Use a bar chart to visualize the states that has less than average 10% of sat participation in 2019"
   ]
  },
  {
   "cell_type": "code",
   "execution_count": 122,
   "id": "ec4ac077",
   "metadata": {},
   "outputs": [],
   "source": [
    "lowest_particpating_states_19 = sat_19[sat_19[\"Participation_2019(%)\"] < 10][\"State\"]"
   ]
  },
  {
   "cell_type": "code",
   "execution_count": 50,
   "id": "99c86943",
   "metadata": {},
   "outputs": [
    {
     "data": {
      "text/plain": [
       "pandas.core.series.Series"
      ]
     },
     "execution_count": 50,
     "metadata": {},
     "output_type": "execute_result"
    }
   ],
   "source": [
    "type(lowest_particpating_states_19)"
   ]
  },
  {
   "cell_type": "code",
   "execution_count": 51,
   "id": "1adfef9d",
   "metadata": {},
   "outputs": [
    {
     "data": {
      "text/plain": [
       "(17,)"
      ]
     },
     "execution_count": 51,
     "metadata": {},
     "output_type": "execute_result"
    }
   ],
   "source": [
    "lowest_particpating_states_19.shape "
   ]
  },
  {
   "cell_type": "code",
   "execution_count": 123,
   "id": "eb7f7020",
   "metadata": {},
   "outputs": [],
   "source": [
    "new_dataframe = sat_19.groupby([\"State\"]).mean().sort_values(by=\"Participation_2019(%)\", ascending=True).head(17)"
   ]
  },
  {
   "cell_type": "code",
   "execution_count": 106,
   "id": "4dacafab",
   "metadata": {},
   "outputs": [
    {
     "data": {
      "text/plain": [
       "pandas.core.frame.DataFrame"
      ]
     },
     "execution_count": 106,
     "metadata": {},
     "output_type": "execute_result"
    }
   ],
   "source": [
    "type(new_dataframe)"
   ]
  },
  {
   "cell_type": "code",
   "execution_count": 124,
   "id": "6dd44160",
   "metadata": {},
   "outputs": [
    {
     "data": {
      "text/html": [
       "<div>\n",
       "<style scoped>\n",
       "    .dataframe tbody tr th:only-of-type {\n",
       "        vertical-align: middle;\n",
       "    }\n",
       "\n",
       "    .dataframe tbody tr th {\n",
       "        vertical-align: top;\n",
       "    }\n",
       "\n",
       "    .dataframe thead th {\n",
       "        text-align: right;\n",
       "    }\n",
       "</style>\n",
       "<table border=\"1\" class=\"dataframe\">\n",
       "  <thead>\n",
       "    <tr style=\"text-align: right;\">\n",
       "      <th></th>\n",
       "      <th>EBRW</th>\n",
       "      <th>Math</th>\n",
       "      <th>Total</th>\n",
       "      <th>Participation_2019(%)</th>\n",
       "    </tr>\n",
       "    <tr>\n",
       "      <th>State</th>\n",
       "      <th></th>\n",
       "      <th></th>\n",
       "      <th></th>\n",
       "      <th></th>\n",
       "    </tr>\n",
       "  </thead>\n",
       "  <tbody>\n",
       "    <tr>\n",
       "      <th>North Dakota</th>\n",
       "      <td>627.0</td>\n",
       "      <td>636.0</td>\n",
       "      <td>1263.0</td>\n",
       "      <td>2.0</td>\n",
       "    </tr>\n",
       "    <tr>\n",
       "      <th>Wyoming</th>\n",
       "      <td>623.0</td>\n",
       "      <td>615.0</td>\n",
       "      <td>1238.0</td>\n",
       "      <td>3.0</td>\n",
       "    </tr>\n",
       "    <tr>\n",
       "      <th>South Dakota</th>\n",
       "      <td>633.0</td>\n",
       "      <td>635.0</td>\n",
       "      <td>1268.0</td>\n",
       "      <td>3.0</td>\n",
       "    </tr>\n",
       "    <tr>\n",
       "      <th>Nebraska</th>\n",
       "      <td>628.0</td>\n",
       "      <td>631.0</td>\n",
       "      <td>1260.0</td>\n",
       "      <td>3.0</td>\n",
       "    </tr>\n",
       "    <tr>\n",
       "      <th>Wisconsin</th>\n",
       "      <td>635.0</td>\n",
       "      <td>648.0</td>\n",
       "      <td>1283.0</td>\n",
       "      <td>3.0</td>\n",
       "    </tr>\n",
       "    <tr>\n",
       "      <th>Mississippi</th>\n",
       "      <td>628.0</td>\n",
       "      <td>608.0</td>\n",
       "      <td>1237.0</td>\n",
       "      <td>3.0</td>\n",
       "    </tr>\n",
       "    <tr>\n",
       "      <th>Iowa</th>\n",
       "      <td>622.0</td>\n",
       "      <td>622.0</td>\n",
       "      <td>1244.0</td>\n",
       "      <td>3.0</td>\n",
       "    </tr>\n",
       "    <tr>\n",
       "      <th>Utah</th>\n",
       "      <td>614.0</td>\n",
       "      <td>615.0</td>\n",
       "      <td>1230.0</td>\n",
       "      <td>4.0</td>\n",
       "    </tr>\n",
       "    <tr>\n",
       "      <th>Minnesota</th>\n",
       "      <td>636.0</td>\n",
       "      <td>648.0</td>\n",
       "      <td>1284.0</td>\n",
       "      <td>4.0</td>\n",
       "    </tr>\n",
       "    <tr>\n",
       "      <th>Kentucky</th>\n",
       "      <td>620.0</td>\n",
       "      <td>612.0</td>\n",
       "      <td>1232.0</td>\n",
       "      <td>4.0</td>\n",
       "    </tr>\n",
       "    <tr>\n",
       "      <th>Kansas</th>\n",
       "      <td>618.0</td>\n",
       "      <td>623.0</td>\n",
       "      <td>1241.0</td>\n",
       "      <td>4.0</td>\n",
       "    </tr>\n",
       "    <tr>\n",
       "      <th>Missouri</th>\n",
       "      <td>622.0</td>\n",
       "      <td>615.0</td>\n",
       "      <td>1236.0</td>\n",
       "      <td>4.0</td>\n",
       "    </tr>\n",
       "    <tr>\n",
       "      <th>Louisiana</th>\n",
       "      <td>610.0</td>\n",
       "      <td>591.0</td>\n",
       "      <td>1200.0</td>\n",
       "      <td>5.0</td>\n",
       "    </tr>\n",
       "    <tr>\n",
       "      <th>Arkansas</th>\n",
       "      <td>582.0</td>\n",
       "      <td>559.0</td>\n",
       "      <td>1141.0</td>\n",
       "      <td>6.0</td>\n",
       "    </tr>\n",
       "    <tr>\n",
       "      <th>Alabama</th>\n",
       "      <td>583.0</td>\n",
       "      <td>560.0</td>\n",
       "      <td>1143.0</td>\n",
       "      <td>7.0</td>\n",
       "    </tr>\n",
       "    <tr>\n",
       "      <th>Tennessee</th>\n",
       "      <td>618.0</td>\n",
       "      <td>602.0</td>\n",
       "      <td>1220.0</td>\n",
       "      <td>7.0</td>\n",
       "    </tr>\n",
       "    <tr>\n",
       "      <th>Montana</th>\n",
       "      <td>603.0</td>\n",
       "      <td>596.0</td>\n",
       "      <td>1199.0</td>\n",
       "      <td>9.0</td>\n",
       "    </tr>\n",
       "  </tbody>\n",
       "</table>\n",
       "</div>"
      ],
      "text/plain": [
       "               EBRW   Math   Total  Participation_2019(%)\n",
       "State                                                    \n",
       "North Dakota  627.0  636.0  1263.0                    2.0\n",
       "Wyoming       623.0  615.0  1238.0                    3.0\n",
       "South Dakota  633.0  635.0  1268.0                    3.0\n",
       "Nebraska      628.0  631.0  1260.0                    3.0\n",
       "Wisconsin     635.0  648.0  1283.0                    3.0\n",
       "Mississippi   628.0  608.0  1237.0                    3.0\n",
       "Iowa          622.0  622.0  1244.0                    3.0\n",
       "Utah          614.0  615.0  1230.0                    4.0\n",
       "Minnesota     636.0  648.0  1284.0                    4.0\n",
       "Kentucky      620.0  612.0  1232.0                    4.0\n",
       "Kansas        618.0  623.0  1241.0                    4.0\n",
       "Missouri      622.0  615.0  1236.0                    4.0\n",
       "Louisiana     610.0  591.0  1200.0                    5.0\n",
       "Arkansas      582.0  559.0  1141.0                    6.0\n",
       "Alabama       583.0  560.0  1143.0                    7.0\n",
       "Tennessee     618.0  602.0  1220.0                    7.0\n",
       "Montana       603.0  596.0  1199.0                    9.0"
      ]
     },
     "execution_count": 124,
     "metadata": {},
     "output_type": "execute_result"
    }
   ],
   "source": [
    "new_dataframe"
   ]
  },
  {
   "cell_type": "code",
   "execution_count": 125,
   "id": "c528c9ba",
   "metadata": {},
   "outputs": [],
   "source": [
    "Lowest_participation_2019= new_dataframe[[\"Participation_2019(%)\"]]"
   ]
  },
  {
   "cell_type": "code",
   "execution_count": 126,
   "id": "90521484",
   "metadata": {},
   "outputs": [],
   "source": [
    "import pylab"
   ]
  },
  {
   "cell_type": "code",
   "execution_count": 127,
   "id": "9459aec3",
   "metadata": {
    "scrolled": true
   },
   "outputs": [
    {
     "data": {
      "text/plain": [
       "Text(0.5, 1.0, 'Lowest participation states in 2019 (average participation less than 10%)')"
      ]
     },
     "execution_count": 127,
     "metadata": {},
     "output_type": "execute_result"
    },
    {
     "data": {
      "image/png": "[encoded data removed]",
      "text/plain": [
       "<Figure size 640x480 with 1 Axes>"
      ]
     },
     "metadata": {},
     "output_type": "display_data"
    }
   ],
   "source": [
    "Lowest_participation_2019.plot(kind=\"bar\")\n",
    "pylab.xlabel(\"State\")\n",
    "pylab.title(\"Lowest participation states in 2019 (average participation less than 10%)\")"
   ]
  },
  {
   "cell_type": "markdown",
   "id": "eac0f65b",
   "metadata": {},
   "source": [
    "# Participation rates comparison over 3 years"
   ]
  },
  {
   "cell_type": "code",
   "execution_count": null,
   "id": "660e787f",
   "metadata": {},
   "outputs": [],
   "source": [
    "# Combine all three years lowest participating states in to a one data frame."
   ]
  },
  {
   "cell_type": "code",
   "execution_count": 128,
   "id": "0dc94602",
   "metadata": {},
   "outputs": [],
   "source": [
    "new_dataframe_1 = pd.concat([lowest_2017, lowest_2018, lowest_2019], axis=1, join=\"inner\")"
   ]
  },
  {
   "cell_type": "code",
   "execution_count": 129,
   "id": "cbb5df39",
   "metadata": {},
   "outputs": [
    {
     "data": {
      "text/html": [
       "<div>\n",
       "<style scoped>\n",
       "    .dataframe tbody tr th:only-of-type {\n",
       "        vertical-align: middle;\n",
       "    }\n",
       "\n",
       "    .dataframe tbody tr th {\n",
       "        vertical-align: top;\n",
       "    }\n",
       "\n",
       "    .dataframe thead th {\n",
       "        text-align: right;\n",
       "    }\n",
       "</style>\n",
       "<table border=\"1\" class=\"dataframe\">\n",
       "  <thead>\n",
       "    <tr style=\"text-align: right;\">\n",
       "      <th></th>\n",
       "      <th>State</th>\n",
       "      <th>Participation_2017(%)</th>\n",
       "      <th>STATE</th>\n",
       "      <th>Participation_2018(%)</th>\n",
       "      <th>Total</th>\n",
       "      <th>STATE</th>\n",
       "      <th>Participation_2019(%)</th>\n",
       "      <th>Total</th>\n",
       "    </tr>\n",
       "  </thead>\n",
       "  <tbody>\n",
       "    <tr>\n",
       "      <th>34</th>\n",
       "      <td>North Dakota</td>\n",
       "      <td>2</td>\n",
       "      <td>North Dakota</td>\n",
       "      <td>2</td>\n",
       "      <td>1283</td>\n",
       "      <td>North Dakota</td>\n",
       "      <td>2</td>\n",
       "      <td>1263</td>\n",
       "    </tr>\n",
       "    <tr>\n",
       "      <th>24</th>\n",
       "      <td>Mississippi</td>\n",
       "      <td>2</td>\n",
       "      <td>Mississippi</td>\n",
       "      <td>3</td>\n",
       "      <td>1236</td>\n",
       "      <td>Mississippi</td>\n",
       "      <td>3</td>\n",
       "      <td>1237</td>\n",
       "    </tr>\n",
       "    <tr>\n",
       "      <th>15</th>\n",
       "      <td>Iowa</td>\n",
       "      <td>2</td>\n",
       "      <td>Iowa</td>\n",
       "      <td>3</td>\n",
       "      <td>1265</td>\n",
       "      <td>Iowa</td>\n",
       "      <td>3</td>\n",
       "      <td>1244</td>\n",
       "    </tr>\n",
       "    <tr>\n",
       "      <th>27</th>\n",
       "      <td>Nebraska</td>\n",
       "      <td>3</td>\n",
       "      <td>Nebraska</td>\n",
       "      <td>3</td>\n",
       "      <td>1252</td>\n",
       "      <td>Nebraska</td>\n",
       "      <td>3</td>\n",
       "      <td>1260</td>\n",
       "    </tr>\n",
       "    <tr>\n",
       "      <th>23</th>\n",
       "      <td>Minnesota</td>\n",
       "      <td>3</td>\n",
       "      <td>Minnesota</td>\n",
       "      <td>4</td>\n",
       "      <td>1298</td>\n",
       "      <td>Minnesota</td>\n",
       "      <td>4</td>\n",
       "      <td>1284</td>\n",
       "    </tr>\n",
       "  </tbody>\n",
       "</table>\n",
       "</div>"
      ],
      "text/plain": [
       "           State  Participation_2017(%)         STATE  Participation_2018(%)  \\\n",
       "34  North Dakota                      2  North Dakota                      2   \n",
       "24   Mississippi                      2   Mississippi                      3   \n",
       "15          Iowa                      2          Iowa                      3   \n",
       "27      Nebraska                      3      Nebraska                      3   \n",
       "23     Minnesota                      3     Minnesota                      4   \n",
       "\n",
       "    Total         STATE  Participation_2019(%)  Total  \n",
       "34   1283  North Dakota                      2   1263  \n",
       "24   1236   Mississippi                      3   1237  \n",
       "15   1265          Iowa                      3   1244  \n",
       "27   1252      Nebraska                      3   1260  \n",
       "23   1298     Minnesota                      4   1284  "
      ]
     },
     "execution_count": 129,
     "metadata": {},
     "output_type": "execute_result"
    }
   ],
   "source": [
    "new_dataframe_1.head(10)"
   ]
  },
  {
   "cell_type": "code",
   "execution_count": 130,
   "id": "f93f0c49",
   "metadata": {},
   "outputs": [],
   "source": [
    "new_dataframe_2 = new_dataframe_1.drop(columns=[\"Total\"])"
   ]
  },
  {
   "cell_type": "code",
   "execution_count": 131,
   "id": "ace4fe35",
   "metadata": {},
   "outputs": [
    {
     "data": {
      "text/html": [
       "<div>\n",
       "<style scoped>\n",
       "    .dataframe tbody tr th:only-of-type {\n",
       "        vertical-align: middle;\n",
       "    }\n",
       "\n",
       "    .dataframe tbody tr th {\n",
       "        vertical-align: top;\n",
       "    }\n",
       "\n",
       "    .dataframe thead th {\n",
       "        text-align: right;\n",
       "    }\n",
       "</style>\n",
       "<table border=\"1\" class=\"dataframe\">\n",
       "  <thead>\n",
       "    <tr style=\"text-align: right;\">\n",
       "      <th></th>\n",
       "      <th>State</th>\n",
       "      <th>Participation_2017(%)</th>\n",
       "      <th>STATE</th>\n",
       "      <th>Participation_2018(%)</th>\n",
       "      <th>STATE</th>\n",
       "      <th>Participation_2019(%)</th>\n",
       "    </tr>\n",
       "  </thead>\n",
       "  <tbody>\n",
       "    <tr>\n",
       "      <th>34</th>\n",
       "      <td>North Dakota</td>\n",
       "      <td>2</td>\n",
       "      <td>North Dakota</td>\n",
       "      <td>2</td>\n",
       "      <td>North Dakota</td>\n",
       "      <td>2</td>\n",
       "    </tr>\n",
       "  </tbody>\n",
       "</table>\n",
       "</div>"
      ],
      "text/plain": [
       "           State  Participation_2017(%)         STATE  Participation_2018(%)  \\\n",
       "34  North Dakota                      2  North Dakota                      2   \n",
       "\n",
       "           STATE  Participation_2019(%)  \n",
       "34  North Dakota                      2  "
      ]
     },
     "execution_count": 131,
     "metadata": {},
     "output_type": "execute_result"
    }
   ],
   "source": [
    "new_dataframe_2.head(1)"
   ]
  },
  {
   "cell_type": "code",
   "execution_count": 132,
   "id": "d9447ea0",
   "metadata": {},
   "outputs": [],
   "source": [
    "new_dataframe_3 = new_dataframe_2.drop(columns=[\"STATE\"])"
   ]
  },
  {
   "cell_type": "code",
   "execution_count": 133,
   "id": "398115da",
   "metadata": {},
   "outputs": [],
   "source": [
    "# adding few more rows to the dataframe using loc method\n",
    "new_dataframe_3.loc[\"50\"] = [\"Wyoming\", 3, 3, 3]\n",
    "new_dataframe_3.loc[\"16\"] = [\"Kansas\", 4, 4, 4]\n",
    "new_dataframe_3.loc[\"17\"] = [\"Kentucky\", 4, 4, 4]\n",
    "new_dataframe_3.loc[\"42\"] = [\"Tennessee\", 5, 6, 7]\n",
    "new_dataframe_3.loc[\"26\"] = [\"Montana\", 10, 10, 9]"
   ]
  },
  {
   "cell_type": "code",
   "execution_count": 134,
   "id": "7ddfc708",
   "metadata": {},
   "outputs": [
    {
     "data": {
      "text/html": [
       "<div>\n",
       "<style scoped>\n",
       "    .dataframe tbody tr th:only-of-type {\n",
       "        vertical-align: middle;\n",
       "    }\n",
       "\n",
       "    .dataframe tbody tr th {\n",
       "        vertical-align: top;\n",
       "    }\n",
       "\n",
       "    .dataframe thead th {\n",
       "        text-align: right;\n",
       "    }\n",
       "</style>\n",
       "<table border=\"1\" class=\"dataframe\">\n",
       "  <thead>\n",
       "    <tr style=\"text-align: right;\">\n",
       "      <th></th>\n",
       "      <th>State</th>\n",
       "      <th>Participation_2017(%)</th>\n",
       "      <th>Participation_2018(%)</th>\n",
       "      <th>Participation_2019(%)</th>\n",
       "    </tr>\n",
       "  </thead>\n",
       "  <tbody>\n",
       "    <tr>\n",
       "      <th>34</th>\n",
       "      <td>North Dakota</td>\n",
       "      <td>2</td>\n",
       "      <td>2</td>\n",
       "      <td>2</td>\n",
       "    </tr>\n",
       "    <tr>\n",
       "      <th>24</th>\n",
       "      <td>Mississippi</td>\n",
       "      <td>2</td>\n",
       "      <td>3</td>\n",
       "      <td>3</td>\n",
       "    </tr>\n",
       "    <tr>\n",
       "      <th>15</th>\n",
       "      <td>Iowa</td>\n",
       "      <td>2</td>\n",
       "      <td>3</td>\n",
       "      <td>3</td>\n",
       "    </tr>\n",
       "    <tr>\n",
       "      <th>27</th>\n",
       "      <td>Nebraska</td>\n",
       "      <td>3</td>\n",
       "      <td>3</td>\n",
       "      <td>3</td>\n",
       "    </tr>\n",
       "    <tr>\n",
       "      <th>23</th>\n",
       "      <td>Minnesota</td>\n",
       "      <td>3</td>\n",
       "      <td>4</td>\n",
       "      <td>4</td>\n",
       "    </tr>\n",
       "    <tr>\n",
       "      <th>50</th>\n",
       "      <td>Wyoming</td>\n",
       "      <td>3</td>\n",
       "      <td>3</td>\n",
       "      <td>3</td>\n",
       "    </tr>\n",
       "    <tr>\n",
       "      <th>16</th>\n",
       "      <td>Kansas</td>\n",
       "      <td>4</td>\n",
       "      <td>4</td>\n",
       "      <td>4</td>\n",
       "    </tr>\n",
       "    <tr>\n",
       "      <th>17</th>\n",
       "      <td>Kentucky</td>\n",
       "      <td>4</td>\n",
       "      <td>4</td>\n",
       "      <td>4</td>\n",
       "    </tr>\n",
       "    <tr>\n",
       "      <th>42</th>\n",
       "      <td>Tennessee</td>\n",
       "      <td>5</td>\n",
       "      <td>6</td>\n",
       "      <td>7</td>\n",
       "    </tr>\n",
       "    <tr>\n",
       "      <th>26</th>\n",
       "      <td>Montana</td>\n",
       "      <td>10</td>\n",
       "      <td>10</td>\n",
       "      <td>9</td>\n",
       "    </tr>\n",
       "  </tbody>\n",
       "</table>\n",
       "</div>"
      ],
      "text/plain": [
       "           State  Participation_2017(%)  Participation_2018(%)  \\\n",
       "34  North Dakota                      2                      2   \n",
       "24   Mississippi                      2                      3   \n",
       "15          Iowa                      2                      3   \n",
       "27      Nebraska                      3                      3   \n",
       "23     Minnesota                      3                      4   \n",
       "50       Wyoming                      3                      3   \n",
       "16        Kansas                      4                      4   \n",
       "17      Kentucky                      4                      4   \n",
       "42     Tennessee                      5                      6   \n",
       "26       Montana                     10                     10   \n",
       "\n",
       "    Participation_2019(%)  \n",
       "34                      2  \n",
       "24                      3  \n",
       "15                      3  \n",
       "27                      3  \n",
       "23                      4  \n",
       "50                      3  \n",
       "16                      4  \n",
       "17                      4  \n",
       "42                      7  \n",
       "26                      9  "
      ]
     },
     "execution_count": 134,
     "metadata": {},
     "output_type": "execute_result"
    }
   ],
   "source": [
    "new_dataframe_3"
   ]
  },
  {
   "cell_type": "code",
   "execution_count": 135,
   "id": "29851a3d",
   "metadata": {},
   "outputs": [],
   "source": [
    "df = new_dataframe_3.set_index([\"State\"])"
   ]
  },
  {
   "cell_type": "code",
   "execution_count": 136,
   "id": "89849644",
   "metadata": {},
   "outputs": [],
   "source": [
    "import pandas as pd\n",
    "import numpy as np\n",
    "import matplotlib.pyplot as plt\n",
    "\n",
    "\n",
    "%matplotlib inline"
   ]
  },
  {
   "cell_type": "code",
   "execution_count": 137,
   "id": "3f5cab52",
   "metadata": {},
   "outputs": [
    {
     "data": {
      "text/plain": [
       "Text(0.5, 1.0, 'Participation rates comparison among the lowest participation states')"
      ]
     },
     "execution_count": 137,
     "metadata": {},
     "output_type": "execute_result"
    },
    {
     "data": {
      "image/png": "[encoded data removed]",
      "text/plain": [
       "<Figure size 640x480 with 1 Axes>"
      ]
     },
     "metadata": {},
     "output_type": "display_data"
    }
   ],
   "source": [
    "df.plot(kind=\"bar\")\n",
    "pylab.ylabel(\"Participation Rate\")\n",
    "pylab.title(\"Participation rates comparison among the lowest participation states\")"
   ]
  },
  {
   "cell_type": "markdown",
   "id": "2dec761f",
   "metadata": {},
   "source": [
    "#### Observations:"
   ]
  },
  {
   "cell_type": "markdown",
   "id": "ce7c929f",
   "metadata": {},
   "source": [
    "Among the states which has lowest participation rates: \n",
    "\n",
    "- Sat participation has increased in 2018 and 2019 in most of the states\n",
    "- In Montana participation has decresed in 1% in 2019\n",
    "- In Tennessee Participation has increased within two years\n",
    "- North Dakota has the lowest participation rate which is 2% constantly over three years\n",
    "- Apart from the North Dakota Nebraska, Wyoming, Kansas and Kentucky participation rates has been stable to less than 5% over the years."
   ]
  },
  {
   "cell_type": "markdown",
   "id": "648c6c16",
   "metadata": {},
   "source": [
    "#### Recommendations based on participation rates are:"
   ]
  },
  {
   "cell_type": "markdown",
   "id": "54c3fc5a",
   "metadata": {},
   "source": [
    "* States that is increasing and yet has less than 5% of participation rate such as Mississippi, Iowa and Minnesota can be offered more fee waivers for students.\n",
    "* For the states which has no improvement of participation over 3 years such as North Dakota, Nebraska and Wyoming should be provided with more financial provisions for increasing the awareness of SAT program such as organising seminars and workshops in each states.\n",
    "* Working collobaratively with the schools to increase the publicity regarding financial assistant available for students relating to SAT specialy targeting low income students who achieveing high scores.\n",
    "* For the states like Montana which participation rate is unstable in 2019 need more financial allocations to conduct research to find out the reason for decline participation rates"
   ]
  },
  {
   "cell_type": "markdown",
   "id": "195d1562",
   "metadata": {},
   "source": [
    "# 4. SAT 2019 by intended college major EDA"
   ]
  },
  {
   "cell_type": "code",
   "execution_count": 138,
   "id": "7cb88e6c",
   "metadata": {},
   "outputs": [],
   "source": [
    "college_major_sat= pd.read_csv(\"sat_2019_by_intended_college_major.csv\", sep=\",\")"
   ]
  },
  {
   "cell_type": "code",
   "execution_count": 139,
   "id": "9fce1052",
   "metadata": {},
   "outputs": [
    {
     "data": {
      "text/html": [
       "<div>\n",
       "<style scoped>\n",
       "    .dataframe tbody tr th:only-of-type {\n",
       "        vertical-align: middle;\n",
       "    }\n",
       "\n",
       "    .dataframe tbody tr th {\n",
       "        vertical-align: top;\n",
       "    }\n",
       "\n",
       "    .dataframe thead th {\n",
       "        text-align: right;\n",
       "    }\n",
       "</style>\n",
       "<table border=\"1\" class=\"dataframe\">\n",
       "  <thead>\n",
       "    <tr style=\"text-align: right;\">\n",
       "      <th></th>\n",
       "      <th>IntendedCollegeMajor</th>\n",
       "      <th>TestTakers</th>\n",
       "      <th>Percent</th>\n",
       "      <th>Total</th>\n",
       "      <th>ReadingWriting</th>\n",
       "      <th>Math</th>\n",
       "    </tr>\n",
       "  </thead>\n",
       "  <tbody>\n",
       "    <tr>\n",
       "      <th>0</th>\n",
       "      <td>Agriculture, AgricultureOperations, and Relate...</td>\n",
       "      <td>24,913</td>\n",
       "      <td>1%</td>\n",
       "      <td>977</td>\n",
       "      <td>496</td>\n",
       "      <td>481</td>\n",
       "    </tr>\n",
       "    <tr>\n",
       "      <th>1</th>\n",
       "      <td>Architecture and Related Services</td>\n",
       "      <td>28,988</td>\n",
       "      <td>2%</td>\n",
       "      <td>1047</td>\n",
       "      <td>520</td>\n",
       "      <td>527</td>\n",
       "    </tr>\n",
       "    <tr>\n",
       "      <th>2</th>\n",
       "      <td>Area, Ethnic, Cultural, and Gender Studies</td>\n",
       "      <td>2,629</td>\n",
       "      <td>0%</td>\n",
       "      <td>1040</td>\n",
       "      <td>536</td>\n",
       "      <td>504</td>\n",
       "    </tr>\n",
       "    <tr>\n",
       "      <th>3</th>\n",
       "      <td>Biological and Biomedical Sciences</td>\n",
       "      <td>155,834</td>\n",
       "      <td>8%</td>\n",
       "      <td>1139</td>\n",
       "      <td>572</td>\n",
       "      <td>566</td>\n",
       "    </tr>\n",
       "    <tr>\n",
       "      <th>4</th>\n",
       "      <td>Business, Management, Marketing, and Related S...</td>\n",
       "      <td>221,523</td>\n",
       "      <td>12%</td>\n",
       "      <td>1072</td>\n",
       "      <td>534</td>\n",
       "      <td>537</td>\n",
       "    </tr>\n",
       "  </tbody>\n",
       "</table>\n",
       "</div>"
      ],
      "text/plain": [
       "                                IntendedCollegeMajor TestTakers Percent  \\\n",
       "0  Agriculture, AgricultureOperations, and Relate...     24,913      1%   \n",
       "1                  Architecture and Related Services     28,988      2%   \n",
       "2         Area, Ethnic, Cultural, and Gender Studies      2,629      0%   \n",
       "3                 Biological and Biomedical Sciences    155,834      8%   \n",
       "4  Business, Management, Marketing, and Related S...    221,523     12%   \n",
       "\n",
       "   Total  ReadingWriting  Math  \n",
       "0    977             496   481  \n",
       "1   1047             520   527  \n",
       "2   1040             536   504  \n",
       "3   1139             572   566  \n",
       "4   1072             534   537  "
      ]
     },
     "execution_count": 139,
     "metadata": {},
     "output_type": "execute_result"
    }
   ],
   "source": [
    "college_major_sat.head()"
   ]
  },
  {
   "cell_type": "code",
   "execution_count": 140,
   "id": "13f053e3",
   "metadata": {},
   "outputs": [
    {
     "data": {
      "text/plain": [
       "(38, 6)"
      ]
     },
     "execution_count": 140,
     "metadata": {},
     "output_type": "execute_result"
    }
   ],
   "source": [
    "college_major_sat.shape"
   ]
  },
  {
   "cell_type": "code",
   "execution_count": 264,
   "id": "2ad02bf4",
   "metadata": {},
   "outputs": [
    {
     "data": {
      "text/plain": [
       "IntendedCollegeMajor    0\n",
       "TestTakers              0\n",
       "Percent                 0\n",
       "Total                   0\n",
       "ReadingWriting          0\n",
       "Math                    0\n",
       "dtype: int64"
      ]
     },
     "execution_count": 264,
     "metadata": {},
     "output_type": "execute_result"
    }
   ],
   "source": [
    "college_major_sat.isnull().sum()"
   ]
  },
  {
   "cell_type": "code",
   "execution_count": 265,
   "id": "033f81f6",
   "metadata": {},
   "outputs": [
    {
     "data": {
      "text/plain": [
       "IntendedCollegeMajor    object\n",
       "TestTakers              object\n",
       "Percent                 object\n",
       "Total                    int64\n",
       "ReadingWriting           int64\n",
       "Math                     int64\n",
       "dtype: object"
      ]
     },
     "execution_count": 265,
     "metadata": {},
     "output_type": "execute_result"
    }
   ],
   "source": [
    "college_major_sat.dtypes"
   ]
  },
  {
   "cell_type": "markdown",
   "id": "3ac632a5",
   "metadata": {},
   "source": [
    "#### Questions based on intended college major EDA"
   ]
  },
  {
   "cell_type": "code",
   "execution_count": 141,
   "id": "d119d8b2",
   "metadata": {},
   "outputs": [],
   "source": [
    "# 4.1 In which streams most of the students have taken the SAT test? Create a pie chart to visualize data."
   ]
  },
  {
   "cell_type": "code",
   "execution_count": 142,
   "id": "e2ac72e5",
   "metadata": {},
   "outputs": [],
   "source": [
    "def remove_comma(x):\n",
    "    x = x.replace(',','')\n",
    "    return x\n",
    "\n",
    "college_major_sat[\"Test_takers\"] = pd.to_numeric(college_major_sat[\"TestTakers\"].apply(remove_comma))"
   ]
  },
  {
   "cell_type": "code",
   "execution_count": 143,
   "id": "0f276ed6",
   "metadata": {},
   "outputs": [
    {
     "data": {
      "text/html": [
       "<div>\n",
       "<style scoped>\n",
       "    .dataframe tbody tr th:only-of-type {\n",
       "        vertical-align: middle;\n",
       "    }\n",
       "\n",
       "    .dataframe tbody tr th {\n",
       "        vertical-align: top;\n",
       "    }\n",
       "\n",
       "    .dataframe thead th {\n",
       "        text-align: right;\n",
       "    }\n",
       "</style>\n",
       "<table border=\"1\" class=\"dataframe\">\n",
       "  <thead>\n",
       "    <tr style=\"text-align: right;\">\n",
       "      <th></th>\n",
       "      <th>IntendedCollegeMajor</th>\n",
       "      <th>TestTakers</th>\n",
       "      <th>Percent</th>\n",
       "      <th>Total</th>\n",
       "      <th>ReadingWriting</th>\n",
       "      <th>Math</th>\n",
       "      <th>Test_takers</th>\n",
       "    </tr>\n",
       "  </thead>\n",
       "  <tbody>\n",
       "    <tr>\n",
       "      <th>0</th>\n",
       "      <td>Agriculture, AgricultureOperations, and Relate...</td>\n",
       "      <td>24,913</td>\n",
       "      <td>1%</td>\n",
       "      <td>977</td>\n",
       "      <td>496</td>\n",
       "      <td>481</td>\n",
       "      <td>24913</td>\n",
       "    </tr>\n",
       "  </tbody>\n",
       "</table>\n",
       "</div>"
      ],
      "text/plain": [
       "                                IntendedCollegeMajor TestTakers Percent  \\\n",
       "0  Agriculture, AgricultureOperations, and Relate...     24,913      1%   \n",
       "\n",
       "   Total  ReadingWriting  Math  Test_takers  \n",
       "0    977             496   481        24913  "
      ]
     },
     "execution_count": 143,
     "metadata": {},
     "output_type": "execute_result"
    }
   ],
   "source": [
    "college_major_sat.head(1)"
   ]
  },
  {
   "cell_type": "code",
   "execution_count": 144,
   "id": "f4d9bee2",
   "metadata": {},
   "outputs": [],
   "source": [
    "data_frame = college_major_sat.sort_values(by=\"Test_takers\", ascending=False).head(5)"
   ]
  },
  {
   "cell_type": "code",
   "execution_count": 145,
   "id": "bf4cb304",
   "metadata": {},
   "outputs": [
    {
     "data": {
      "text/html": [
       "<div>\n",
       "<style scoped>\n",
       "    .dataframe tbody tr th:only-of-type {\n",
       "        vertical-align: middle;\n",
       "    }\n",
       "\n",
       "    .dataframe tbody tr th {\n",
       "        vertical-align: top;\n",
       "    }\n",
       "\n",
       "    .dataframe thead th {\n",
       "        text-align: right;\n",
       "    }\n",
       "</style>\n",
       "<table border=\"1\" class=\"dataframe\">\n",
       "  <thead>\n",
       "    <tr style=\"text-align: right;\">\n",
       "      <th></th>\n",
       "      <th>IntendedCollegeMajor</th>\n",
       "      <th>Test_takers</th>\n",
       "    </tr>\n",
       "  </thead>\n",
       "  <tbody>\n",
       "    <tr>\n",
       "      <th>14</th>\n",
       "      <td>Health Professions and related Clinical Sciences</td>\n",
       "      <td>331026</td>\n",
       "    </tr>\n",
       "    <tr>\n",
       "      <th>4</th>\n",
       "      <td>Business, Management, Marketing, and Related S...</td>\n",
       "      <td>221523</td>\n",
       "    </tr>\n",
       "    <tr>\n",
       "      <th>9</th>\n",
       "      <td>Engineering</td>\n",
       "      <td>194127</td>\n",
       "    </tr>\n",
       "    <tr>\n",
       "      <th>3</th>\n",
       "      <td>Biological and Biomedical Sciences</td>\n",
       "      <td>155834</td>\n",
       "    </tr>\n",
       "    <tr>\n",
       "      <th>35</th>\n",
       "      <td>Visual and Performing Arts, General</td>\n",
       "      <td>130642</td>\n",
       "    </tr>\n",
       "  </tbody>\n",
       "</table>\n",
       "</div>"
      ],
      "text/plain": [
       "                                 IntendedCollegeMajor  Test_takers\n",
       "14   Health Professions and related Clinical Sciences       331026\n",
       "4   Business, Management, Marketing, and Related S...       221523\n",
       "9                                         Engineering       194127\n",
       "3                  Biological and Biomedical Sciences       155834\n",
       "35                Visual and Performing Arts, General       130642"
      ]
     },
     "execution_count": 145,
     "metadata": {},
     "output_type": "execute_result"
    }
   ],
   "source": [
    "# The indended college major streams that most students have taken SAT test.\n",
    "data_frame[[\"IntendedCollegeMajor\", \"Test_takers\"]]"
   ]
  },
  {
   "cell_type": "code",
   "execution_count": 146,
   "id": "4255f384",
   "metadata": {},
   "outputs": [
    {
     "data": {
      "image/png": "[encoded data removed]",
      "text/plain": [
       "<Figure size 640x480 with 1 Axes>"
      ]
     },
     "metadata": {},
     "output_type": "display_data"
    }
   ],
   "source": [
    "# Creating a pie chart to demonstrate the streams of Intended College Major that most of the students have taken in 2019.\n",
    "labels = 'Health Professions and related Clinical Sciences', 'Business, Management, Marketing, and Related Services', 'Engineering', 'Biological and Biomedical Sciences', \"Visual and Performing Arts, General\"\n",
    "amount_of_TT = [331026, 221523, 194127, 155834, 130642]\n",
    " \n",
    "fig1, ax1 = plt.subplots()\n",
    "ax1.pie(amount_of_TT, labels=labels, autopct='%1.1f%%')\n",
    "ax1.axis('equal')  \n",
    "pylab.title(\" The intended college major streams that highest number of students take SAT in 2019\")\n",
    "\n",
    "plt.show()"
   ]
  },
  {
   "cell_type": "code",
   "execution_count": null,
   "id": "88aad701",
   "metadata": {},
   "outputs": [],
   "source": [
    "# 4.2 In which indended college major streams that least of the students have taken SAT test?"
   ]
  },
  {
   "cell_type": "code",
   "execution_count": 147,
   "id": "5a08832e",
   "metadata": {},
   "outputs": [],
   "source": [
    "least_streams = college_major_sat.sort_values(by=\"Test_takers\", ascending=True).head(10)"
   ]
  },
  {
   "cell_type": "code",
   "execution_count": 148,
   "id": "9555bf45",
   "metadata": {},
   "outputs": [
    {
     "data": {
      "text/html": [
       "<div>\n",
       "<style scoped>\n",
       "    .dataframe tbody tr th:only-of-type {\n",
       "        vertical-align: middle;\n",
       "    }\n",
       "\n",
       "    .dataframe tbody tr th {\n",
       "        vertical-align: top;\n",
       "    }\n",
       "\n",
       "    .dataframe thead th {\n",
       "        text-align: right;\n",
       "    }\n",
       "</style>\n",
       "<table border=\"1\" class=\"dataframe\">\n",
       "  <thead>\n",
       "    <tr style=\"text-align: right;\">\n",
       "      <th></th>\n",
       "      <th>IntendedCollegeMajor</th>\n",
       "      <th>TestTakers</th>\n",
       "      <th>Percent</th>\n",
       "      <th>Total</th>\n",
       "      <th>ReadingWriting</th>\n",
       "      <th>Math</th>\n",
       "      <th>Test_takers</th>\n",
       "    </tr>\n",
       "  </thead>\n",
       "  <tbody>\n",
       "    <tr>\n",
       "      <th>18</th>\n",
       "      <td>Library Science/Librarianship</td>\n",
       "      <td>283</td>\n",
       "      <td>0%</td>\n",
       "      <td>1105</td>\n",
       "      <td>577</td>\n",
       "      <td>527</td>\n",
       "      <td>283</td>\n",
       "    </tr>\n",
       "    <tr>\n",
       "      <th>28</th>\n",
       "      <td>Precision Production</td>\n",
       "      <td>319</td>\n",
       "      <td>0%</td>\n",
       "      <td>932</td>\n",
       "      <td>466</td>\n",
       "      <td>466</td>\n",
       "      <td>319</td>\n",
       "    </tr>\n",
       "    <tr>\n",
       "      <th>34</th>\n",
       "      <td>Transportation and Materials Moving</td>\n",
       "      <td>1,105</td>\n",
       "      <td>0%</td>\n",
       "      <td>1019</td>\n",
       "      <td>511</td>\n",
       "      <td>508</td>\n",
       "      <td>1105</td>\n",
       "    </tr>\n",
       "    <tr>\n",
       "      <th>33</th>\n",
       "      <td>Theology and Religious Vocations</td>\n",
       "      <td>1,991</td>\n",
       "      <td>0%</td>\n",
       "      <td>1096</td>\n",
       "      <td>561</td>\n",
       "      <td>535</td>\n",
       "      <td>1991</td>\n",
       "    </tr>\n",
       "    <tr>\n",
       "      <th>7</th>\n",
       "      <td>Construction Trades, General</td>\n",
       "      <td>2,500</td>\n",
       "      <td>0%</td>\n",
       "      <td>919</td>\n",
       "      <td>459</td>\n",
       "      <td>460</td>\n",
       "      <td>2500</td>\n",
       "    </tr>\n",
       "  </tbody>\n",
       "</table>\n",
       "</div>"
      ],
      "text/plain": [
       "                   IntendedCollegeMajor TestTakers Percent  Total  \\\n",
       "18        Library Science/Librarianship        283      0%   1105   \n",
       "28                 Precision Production        319      0%    932   \n",
       "34  Transportation and Materials Moving      1,105      0%   1019   \n",
       "33     Theology and Religious Vocations      1,991      0%   1096   \n",
       "7          Construction Trades, General      2,500      0%    919   \n",
       "\n",
       "    ReadingWriting  Math  Test_takers  \n",
       "18             577   527          283  \n",
       "28             466   466          319  \n",
       "34             511   508         1105  \n",
       "33             561   535         1991  \n",
       "7              459   460         2500  "
      ]
     },
     "execution_count": 148,
     "metadata": {},
     "output_type": "execute_result"
    }
   ],
   "source": [
    "least_streams.head(5)"
   ]
  },
  {
   "cell_type": "code",
   "execution_count": 330,
   "id": "8397bee5",
   "metadata": {},
   "outputs": [
    {
     "data": {
      "text/plain": [
       "18                   Library Science/Librarianship\n",
       "28                            Precision Production\n",
       "34             Transportation and Materials Moving\n",
       "33                Theology and Religious Vocations\n",
       "7                     Construction Trades, General\n",
       "2       Area, Ethnic, Cultural, and Gender Studies\n",
       "22                 Multi/Interdisciplinary Studies\n",
       "26                Philosophy and Religious Studies\n",
       "12     Family and Consumer Sciences/Human Sciences\n",
       "20    Mechanic and Repair Technologies/Technicians\n",
       "Name: IntendedCollegeMajor, dtype: object"
      ]
     },
     "execution_count": 330,
     "metadata": {},
     "output_type": "execute_result"
    }
   ],
   "source": [
    "least_streams[\"IntendedCollegeMajor\"].head(10)"
   ]
  },
  {
   "cell_type": "markdown",
   "id": "f2937c32",
   "metadata": {},
   "source": [
    "#### Observations:"
   ]
  },
  {
   "cell_type": "markdown",
   "id": "e75f0eac",
   "metadata": {},
   "source": [
    "According to the pie chart above most of the test takers are taking SAT intended collage major in Health Professions and related Clinical Sciences. Students' next preference is Business, Management, Marketing, and Related Services. According to the data in 4.2 the least of the test takers are for following intended college major streams.\n",
    "* Library Science/Librarianship\n",
    "* Precision Production\n",
    "* Transportation and Materials Moving\n",
    "* Theology and Religious Vocations\t\n",
    "* Construction Trades, General\t\n"
   ]
  },
  {
   "cell_type": "markdown",
   "id": "d43ceb90",
   "metadata": {},
   "source": [
    "#### Recommendations based on intended college major EDA are:"
   ]
  },
  {
   "cell_type": "markdown",
   "id": "de05bd2a",
   "metadata": {},
   "source": [
    "Based on the above observations, to increase SAT participation in specific intended major college streams which have low SAT participation I suggest to consider offering financial grant for the institutions which offer them to make SAT compulsory requirement to entrol for those streams. According to the analysis the intended major college streams which have low SAT participation are listed below:\n",
    "\n",
    "* Library Science/Librarianship\n",
    "* Precision Production\n",
    "* Transportation and Materials Moving\n",
    "* Theology and Religious Vocations\n",
    "* Construction Trades, General\n",
    "* Area, Ethnic, Cultural, and Gender Studies\n",
    "* Multi/Interdisciplinary Studies\n",
    "* Philosophy and Religious Studies\n",
    "* Family and Consumer Sciences/Human Sciences\n",
    "* Mechanic and Repair Technologies/Technicians"
   ]
  },
  {
   "cell_type": "markdown",
   "id": "9a7e9a06",
   "metadata": {},
   "source": [
    "# 5. SAT college acceptance EDA"
   ]
  },
  {
   "cell_type": "code",
   "execution_count": 45,
   "id": "f5057e94",
   "metadata": {},
   "outputs": [],
   "source": [
    "sat_college= pd.read_csv(\"sat_act_by_college.csv\", sep=\",\")"
   ]
  },
  {
   "cell_type": "code",
   "execution_count": 46,
   "id": "34a61eef",
   "metadata": {},
   "outputs": [
    {
     "data": {
      "text/html": [
       "<div>\n",
       "<style scoped>\n",
       "    .dataframe tbody tr th:only-of-type {\n",
       "        vertical-align: middle;\n",
       "    }\n",
       "\n",
       "    .dataframe tbody tr th {\n",
       "        vertical-align: top;\n",
       "    }\n",
       "\n",
       "    .dataframe thead th {\n",
       "        text-align: right;\n",
       "    }\n",
       "</style>\n",
       "<table border=\"1\" class=\"dataframe\">\n",
       "  <thead>\n",
       "    <tr style=\"text-align: right;\">\n",
       "      <th></th>\n",
       "      <th>School</th>\n",
       "      <th>Test Optional?</th>\n",
       "      <th>Applies to Class Year(s)</th>\n",
       "      <th>Policy Details</th>\n",
       "      <th>Number of Applicants</th>\n",
       "      <th>Accept Rate</th>\n",
       "      <th>SAT Total 25th-75th Percentile</th>\n",
       "      <th>ACT Total 25th-75th Percentile</th>\n",
       "    </tr>\n",
       "  </thead>\n",
       "  <tbody>\n",
       "    <tr>\n",
       "      <th>0</th>\n",
       "      <td>Stanford University</td>\n",
       "      <td>Yes</td>\n",
       "      <td>2021</td>\n",
       "      <td>Stanford has adopted a one-year test optional ...</td>\n",
       "      <td>47452</td>\n",
       "      <td>4.3%</td>\n",
       "      <td>1440-1570</td>\n",
       "      <td>32-35</td>\n",
       "    </tr>\n",
       "  </tbody>\n",
       "</table>\n",
       "</div>"
      ],
      "text/plain": [
       "                School Test Optional? Applies to Class Year(s)  \\\n",
       "0  Stanford University            Yes                     2021   \n",
       "\n",
       "                                      Policy Details  Number of Applicants  \\\n",
       "0  Stanford has adopted a one-year test optional ...                 47452   \n",
       "\n",
       "  Accept Rate SAT Total 25th-75th Percentile ACT Total 25th-75th Percentile  \n",
       "0        4.3%                      1440-1570                          32-35  "
      ]
     },
     "execution_count": 46,
     "metadata": {},
     "output_type": "execute_result"
    }
   ],
   "source": [
    "sat_college.head(1)"
   ]
  },
  {
   "cell_type": "code",
   "execution_count": 47,
   "id": "f1a9bd0b",
   "metadata": {},
   "outputs": [
    {
     "data": {
      "text/plain": [
       "School                             0\n",
       "Test Optional?                     0\n",
       "Applies to Class Year(s)          26\n",
       "Policy Details                     0\n",
       "Number of Applicants               0\n",
       "Accept Rate                        0\n",
       "SAT Total 25th-75th Percentile     0\n",
       "ACT Total 25th-75th Percentile     0\n",
       "dtype: int64"
      ]
     },
     "execution_count": 47,
     "metadata": {},
     "output_type": "execute_result"
    }
   ],
   "source": [
    "sat_college.isnull().sum()"
   ]
  },
  {
   "cell_type": "code",
   "execution_count": 48,
   "id": "4e211abb",
   "metadata": {},
   "outputs": [],
   "source": [
    "# Filling missing values with 0\n",
    "sat_college.fillna(0, inplace=True)"
   ]
  },
  {
   "cell_type": "code",
   "execution_count": 49,
   "id": "461ae799",
   "metadata": {},
   "outputs": [
    {
     "data": {
      "text/plain": [
       "School                            0\n",
       "Test Optional?                    0\n",
       "Applies to Class Year(s)          0\n",
       "Policy Details                    0\n",
       "Number of Applicants              0\n",
       "Accept Rate                       0\n",
       "SAT Total 25th-75th Percentile    0\n",
       "ACT Total 25th-75th Percentile    0\n",
       "dtype: int64"
      ]
     },
     "execution_count": 49,
     "metadata": {},
     "output_type": "execute_result"
    }
   ],
   "source": [
    "sat_college.isnull().sum()"
   ]
  },
  {
   "cell_type": "code",
   "execution_count": 63,
   "id": "871f7b2a",
   "metadata": {},
   "outputs": [
    {
     "data": {
      "text/html": [
       "<div>\n",
       "<style scoped>\n",
       "    .dataframe tbody tr th:only-of-type {\n",
       "        vertical-align: middle;\n",
       "    }\n",
       "\n",
       "    .dataframe tbody tr th {\n",
       "        vertical-align: top;\n",
       "    }\n",
       "\n",
       "    .dataframe thead th {\n",
       "        text-align: right;\n",
       "    }\n",
       "</style>\n",
       "<table border=\"1\" class=\"dataframe\">\n",
       "  <thead>\n",
       "    <tr style=\"text-align: right;\">\n",
       "      <th></th>\n",
       "      <th>School</th>\n",
       "      <th>Test Optional?</th>\n",
       "      <th>Applies to Class Year(s)</th>\n",
       "      <th>Policy Details</th>\n",
       "      <th>Number of Applicants</th>\n",
       "      <th>Accept Rate</th>\n",
       "      <th>SAT Total 25th-75th Percentile</th>\n",
       "      <th>ACT Total 25th-75th Percentile</th>\n",
       "    </tr>\n",
       "  </thead>\n",
       "  <tbody>\n",
       "    <tr>\n",
       "      <th>0</th>\n",
       "      <td>Stanford University</td>\n",
       "      <td>Yes</td>\n",
       "      <td>2021</td>\n",
       "      <td>Stanford has adopted a one-year test optional ...</td>\n",
       "      <td>47452</td>\n",
       "      <td>4.3%</td>\n",
       "      <td>1440-1570</td>\n",
       "      <td>32-35</td>\n",
       "    </tr>\n",
       "  </tbody>\n",
       "</table>\n",
       "</div>"
      ],
      "text/plain": [
       "                School Test Optional? Applies to Class Year(s)  \\\n",
       "0  Stanford University            Yes                     2021   \n",
       "\n",
       "                                      Policy Details  Number of Applicants  \\\n",
       "0  Stanford has adopted a one-year test optional ...                 47452   \n",
       "\n",
       "  Accept Rate SAT Total 25th-75th Percentile ACT Total 25th-75th Percentile  \n",
       "0        4.3%                      1440-1570                          32-35  "
      ]
     },
     "execution_count": 63,
     "metadata": {},
     "output_type": "execute_result"
    }
   ],
   "source": [
    "sat_college.head(1)"
   ]
  },
  {
   "cell_type": "code",
   "execution_count": 53,
   "id": "5c81302c",
   "metadata": {},
   "outputs": [],
   "source": [
    "df_sat_college = sat_college.drop(columns=[\"Applies to Class Year(s)\", \"Policy Details\", \"SAT Total 25th-75th Percentile\", \"ACT Total 25th-75th Percentile\"])"
   ]
  },
  {
   "cell_type": "code",
   "execution_count": 93,
   "id": "4e7c6ae9",
   "metadata": {},
   "outputs": [
    {
     "data": {
      "text/html": [
       "<div>\n",
       "<style scoped>\n",
       "    .dataframe tbody tr th:only-of-type {\n",
       "        vertical-align: middle;\n",
       "    }\n",
       "\n",
       "    .dataframe tbody tr th {\n",
       "        vertical-align: top;\n",
       "    }\n",
       "\n",
       "    .dataframe thead th {\n",
       "        text-align: right;\n",
       "    }\n",
       "</style>\n",
       "<table border=\"1\" class=\"dataframe\">\n",
       "  <thead>\n",
       "    <tr style=\"text-align: right;\">\n",
       "      <th></th>\n",
       "      <th>School</th>\n",
       "      <th>Test Optional?</th>\n",
       "      <th>Number of Applicants</th>\n",
       "      <th>Accept Rate</th>\n",
       "    </tr>\n",
       "  </thead>\n",
       "  <tbody>\n",
       "    <tr>\n",
       "      <th>0</th>\n",
       "      <td>Stanford University</td>\n",
       "      <td>Yes</td>\n",
       "      <td>47452</td>\n",
       "      <td>4.3%</td>\n",
       "    </tr>\n",
       "  </tbody>\n",
       "</table>\n",
       "</div>"
      ],
      "text/plain": [
       "                School Test Optional?  Number of Applicants Accept Rate\n",
       "0  Stanford University            Yes                 47452        4.3%"
      ]
     },
     "execution_count": 93,
     "metadata": {},
     "output_type": "execute_result"
    }
   ],
   "source": [
    "df_sat_college.head(1)"
   ]
  },
  {
   "cell_type": "code",
   "execution_count": 280,
   "id": "2373582a",
   "metadata": {},
   "outputs": [
    {
     "data": {
      "text/plain": [
       "(416, 4)"
      ]
     },
     "execution_count": 280,
     "metadata": {},
     "output_type": "execute_result"
    }
   ],
   "source": [
    "df_sat_college.shape"
   ]
  },
  {
   "cell_type": "code",
   "execution_count": 283,
   "id": "f382a7ac",
   "metadata": {},
   "outputs": [
    {
     "data": {
      "text/plain": [
       "School                  0\n",
       "Test Optional?          0\n",
       "Number of Applicants    0\n",
       "Accept Rate             0\n",
       "dtype: int64"
      ]
     },
     "execution_count": 283,
     "metadata": {},
     "output_type": "execute_result"
    }
   ],
   "source": [
    "df_sat_college.isnull().sum()"
   ]
  },
  {
   "cell_type": "code",
   "execution_count": 285,
   "id": "80f4c4f7",
   "metadata": {},
   "outputs": [
    {
     "data": {
      "text/plain": [
       "School                  object\n",
       "Test Optional?          object\n",
       "Number of Applicants     int64\n",
       "Accept Rate             object\n",
       "dtype: object"
      ]
     },
     "execution_count": 285,
     "metadata": {},
     "output_type": "execute_result"
    }
   ],
   "source": [
    "df_sat_college.dtypes"
   ]
  },
  {
   "cell_type": "markdown",
   "id": "52407ad0",
   "metadata": {},
   "source": [
    "#### Questions based on SAT college acceptance EDA"
   ]
  },
  {
   "cell_type": "code",
   "execution_count": 149,
   "id": "7cef3e00",
   "metadata": {},
   "outputs": [
    {
     "data": {
      "text/plain": [
       "School    347\n",
       "dtype: int64"
      ]
     },
     "execution_count": 149,
     "metadata": {},
     "output_type": "execute_result"
    }
   ],
   "source": [
    "# 5.1 How many number of schools that SAT test is considered as optional?\n",
    "df_sat_college[df_sat_college[\"Test Optional?\"] == \"Yes\"][[\"School\"]].count()"
   ]
  },
  {
   "cell_type": "code",
   "execution_count": 150,
   "id": "6b243db4",
   "metadata": {},
   "outputs": [
    {
     "data": {
      "text/plain": [
       "School    26\n",
       "dtype: int64"
      ]
     },
     "execution_count": 150,
     "metadata": {},
     "output_type": "execute_result"
    }
   ],
   "source": [
    "# 5.2 How many number of schools that SAT test is considered as compulsory?\n",
    "df_sat_college[df_sat_college[\"Test Optional?\"] == \"No\"][[\"School\"]].count()"
   ]
  },
  {
   "cell_type": "code",
   "execution_count": 151,
   "id": "425fd88a",
   "metadata": {},
   "outputs": [
    {
     "data": {
      "text/html": [
       "<div>\n",
       "<style scoped>\n",
       "    .dataframe tbody tr th:only-of-type {\n",
       "        vertical-align: middle;\n",
       "    }\n",
       "\n",
       "    .dataframe tbody tr th {\n",
       "        vertical-align: top;\n",
       "    }\n",
       "\n",
       "    .dataframe thead th {\n",
       "        text-align: right;\n",
       "    }\n",
       "</style>\n",
       "<table border=\"1\" class=\"dataframe\">\n",
       "  <thead>\n",
       "    <tr style=\"text-align: right;\">\n",
       "      <th></th>\n",
       "      <th>School</th>\n",
       "      <th>Test Optional?</th>\n",
       "      <th>Number of Applicants</th>\n",
       "      <th>Accept Rate</th>\n",
       "    </tr>\n",
       "  </thead>\n",
       "  <tbody>\n",
       "    <tr>\n",
       "      <th>24</th>\n",
       "      <td>University of California—​Los Angeles</td>\n",
       "      <td>Yes</td>\n",
       "      <td>111322</td>\n",
       "      <td>12.3%</td>\n",
       "    </tr>\n",
       "  </tbody>\n",
       "</table>\n",
       "</div>"
      ],
      "text/plain": [
       "                                   School Test Optional?  \\\n",
       "24  University of California—​Los Angeles            Yes   \n",
       "\n",
       "    Number of Applicants Accept Rate  \n",
       "24                111322       12.3%  "
      ]
     },
     "execution_count": 151,
     "metadata": {},
     "output_type": "execute_result"
    }
   ],
   "source": [
    "# Which school has highest number of apllicants?\n",
    "df_sat_college.sort_values(by=\"Number of Applicants\", ascending=False).head(1)"
   ]
  },
  {
   "cell_type": "code",
   "execution_count": null,
   "id": "b1fee4d1",
   "metadata": {},
   "outputs": [],
   "source": [
    "# 5.3 Is there a connection between Number of Applicants and Accept Rate? Plot them with a scatter plot"
   ]
  },
  {
   "cell_type": "code",
   "execution_count": 152,
   "id": "142ee230",
   "metadata": {},
   "outputs": [
    {
     "data": {
      "text/plain": [
       "<AxesSubplot:xlabel='Number of Applicants', ylabel='Accept Rate'>"
      ]
     },
     "execution_count": 152,
     "metadata": {},
     "output_type": "execute_result"
    },
    {
     "data": {
      "image/png": "[encoded data removed]",
      "text/plain": [
       "<Figure size 640x480 with 1 Axes>"
      ]
     },
     "metadata": {},
     "output_type": "display_data"
    }
   ],
   "source": [
    "df_sat_college.head(20).plot(kind=\"scatter\", x=\"Number of Applicants\", y=\"Accept Rate\")"
   ]
  },
  {
   "cell_type": "markdown",
   "id": "7d312ce0",
   "metadata": {},
   "source": [
    "There is no connection between Number of Applicants and Accept Rate. Pattern is random"
   ]
  }
 ],
 "metadata": {
  "kernelspec": {
   "display_name": "Python 3 (ipykernel)",
   "language": "python",
   "name": "python3"
  },
  "language_info": {
   "codemirror_mode": {
    "name": "ipython",
    "version": 3
   },
   "file_extension": ".py",
   "mimetype": "text/x-python",
   "name": "python",
   "nbconvert_exporter": "python",
   "pygments_lexer": "ipython3",
   "version": "3.9.13"
  }
 },
 "nbformat": 4,
 "nbformat_minor": 5
}
